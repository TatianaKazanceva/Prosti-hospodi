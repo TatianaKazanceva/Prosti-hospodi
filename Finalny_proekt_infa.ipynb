{
  "cells": [
    {
      "cell_type": "markdown",
      "metadata": {
        "id": "view-in-github",
        "colab_type": "text"
      },
      "source": [
        "<a href=\"https://colab.research.google.com/github/TatianaKazanceva/Prosti-hospodi/blob/main/Finalny_proekt_infa.ipynb\" target=\"_parent\"><img src=\"https://colab.research.google.com/assets/colab-badge.svg\" alt=\"Open In Colab\"/></a>"
      ]
    },
    {
      "cell_type": "code",
      "source": [
        "from google.colab import drive\n",
        "drive.mount('/content/drive')"
      ],
      "metadata": {
        "colab": {
          "base_uri": "https://localhost:8080/"
        },
        "id": "RmkTkzAAbRua",
        "outputId": "f0c9fafe-4abd-4a85-e60d-76f25a217c01"
      },
      "execution_count": 1,
      "outputs": [
        {
          "output_type": "stream",
          "name": "stdout",
          "text": [
            "Mounted at /content/drive\n"
          ]
        }
      ]
    },
    {
      "cell_type": "code",
      "execution_count": null,
      "metadata": {
        "id": "PAVBIGEwaK67"
      },
      "outputs": [],
      "source": [
        "# ПРЕДОБРАБОТКА: ТОКИНЕНИЗАЦИЯ, ЛЕММАТИЗАЦИЯ"
      ]
    },
    {
      "cell_type": "code",
      "execution_count": 3,
      "metadata": {
        "id": "gznHCCRyaK67",
        "colab": {
          "base_uri": "https://localhost:8080/"
        },
        "outputId": "476e0b42-4fc9-4e91-9437-9e2376fc5110"
      },
      "outputs": [
        {
          "output_type": "stream",
          "name": "stderr",
          "text": [
            "[nltk_data] Downloading package punkt to /root/nltk_data...\n",
            "[nltk_data]   Unzipping tokenizers/punkt.zip.\n"
          ]
        },
        {
          "output_type": "execute_result",
          "data": {
            "text/plain": [
              "True"
            ]
          },
          "metadata": {},
          "execution_count": 3
        }
      ],
      "source": [
        "import nltk\n",
        "nltk.download('punkt')"
      ]
    },
    {
      "cell_type": "code",
      "execution_count": 4,
      "metadata": {
        "id": "LYgDqVz9aK67"
      },
      "outputs": [],
      "source": [
        "import numpy as np\n",
        "import pandas as pd\n",
        "import re\n",
        "import nltk\n",
        "#import spacy\n",
        "import string"
      ]
    },
    {
      "cell_type": "code",
      "execution_count": 11,
      "metadata": {
        "id": "_EQ3K2OSaK68",
        "colab": {
          "base_uri": "https://localhost:8080/",
          "height": 206
        },
        "outputId": "3443393b-c851-4070-b5b4-d203e9d48451"
      },
      "outputs": [
        {
          "output_type": "execute_result",
          "data": {
            "text/plain": [
              "                     writer                                       poem  \\\n",
              "0  Лермонтов Михаил Юрьевич                            Любовь мертвеца   \n",
              "1  Лермонтов Михаил Юрьевич                       На серебряные шпоры…   \n",
              "2  Лермонтов Михаил Юрьевич                  Вид гор из степей Козлова   \n",
              "3  Лермонтов Михаил Юрьевич     К  (О, не скрывай! Ты плакала об нем…)   \n",
              "4  Лермонтов Михаил Юрьевич  Жалобы турка (письмо к другу, иностранцу)   \n",
              "\n",
              "                                                text  \n",
              "0                                                NaN  \n",
              "1  На серебряные шпоры\\nЯ в раздумии гляжу;\\nЗа т...  \n",
              "2  Пилигрим\\nАллах ли там среди пустыни\\nЗастывши...  \n",
              "3  О, не скрывай! Ты плакала об нем –\\nИ я его лю...  \n",
              "4  Ты знал ли дикий край, под знойными лучами,\\nГ...  "
            ],
            "text/html": [
              "\n",
              "  <div id=\"df-211ced80-9b88-4118-ac4a-c975055de941\" class=\"colab-df-container\">\n",
              "    <div>\n",
              "<style scoped>\n",
              "    .dataframe tbody tr th:only-of-type {\n",
              "        vertical-align: middle;\n",
              "    }\n",
              "\n",
              "    .dataframe tbody tr th {\n",
              "        vertical-align: top;\n",
              "    }\n",
              "\n",
              "    .dataframe thead th {\n",
              "        text-align: right;\n",
              "    }\n",
              "</style>\n",
              "<table border=\"1\" class=\"dataframe\">\n",
              "  <thead>\n",
              "    <tr style=\"text-align: right;\">\n",
              "      <th></th>\n",
              "      <th>writer</th>\n",
              "      <th>poem</th>\n",
              "      <th>text</th>\n",
              "    </tr>\n",
              "  </thead>\n",
              "  <tbody>\n",
              "    <tr>\n",
              "      <th>0</th>\n",
              "      <td>Лермонтов Михаил Юрьевич</td>\n",
              "      <td>Любовь мертвеца</td>\n",
              "      <td>NaN</td>\n",
              "    </tr>\n",
              "    <tr>\n",
              "      <th>1</th>\n",
              "      <td>Лермонтов Михаил Юрьевич</td>\n",
              "      <td>На серебряные шпоры…</td>\n",
              "      <td>На серебряные шпоры\\nЯ в раздумии гляжу;\\nЗа т...</td>\n",
              "    </tr>\n",
              "    <tr>\n",
              "      <th>2</th>\n",
              "      <td>Лермонтов Михаил Юрьевич</td>\n",
              "      <td>Вид гор из степей Козлова</td>\n",
              "      <td>Пилигрим\\nАллах ли там среди пустыни\\nЗастывши...</td>\n",
              "    </tr>\n",
              "    <tr>\n",
              "      <th>3</th>\n",
              "      <td>Лермонтов Михаил Юрьевич</td>\n",
              "      <td>К  (О, не скрывай! Ты плакала об нем…)</td>\n",
              "      <td>О, не скрывай! Ты плакала об нем –\\nИ я его лю...</td>\n",
              "    </tr>\n",
              "    <tr>\n",
              "      <th>4</th>\n",
              "      <td>Лермонтов Михаил Юрьевич</td>\n",
              "      <td>Жалобы турка (письмо к другу, иностранцу)</td>\n",
              "      <td>Ты знал ли дикий край, под знойными лучами,\\nГ...</td>\n",
              "    </tr>\n",
              "  </tbody>\n",
              "</table>\n",
              "</div>\n",
              "    <div class=\"colab-df-buttons\">\n",
              "\n",
              "  <div class=\"colab-df-container\">\n",
              "    <button class=\"colab-df-convert\" onclick=\"convertToInteractive('df-211ced80-9b88-4118-ac4a-c975055de941')\"\n",
              "            title=\"Convert this dataframe to an interactive table.\"\n",
              "            style=\"display:none;\">\n",
              "\n",
              "  <svg xmlns=\"http://www.w3.org/2000/svg\" height=\"24px\" viewBox=\"0 -960 960 960\">\n",
              "    <path d=\"M120-120v-720h720v720H120Zm60-500h600v-160H180v160Zm220 220h160v-160H400v160Zm0 220h160v-160H400v160ZM180-400h160v-160H180v160Zm440 0h160v-160H620v160ZM180-180h160v-160H180v160Zm440 0h160v-160H620v160Z\"/>\n",
              "  </svg>\n",
              "    </button>\n",
              "\n",
              "  <style>\n",
              "    .colab-df-container {\n",
              "      display:flex;\n",
              "      gap: 12px;\n",
              "    }\n",
              "\n",
              "    .colab-df-convert {\n",
              "      background-color: #E8F0FE;\n",
              "      border: none;\n",
              "      border-radius: 50%;\n",
              "      cursor: pointer;\n",
              "      display: none;\n",
              "      fill: #1967D2;\n",
              "      height: 32px;\n",
              "      padding: 0 0 0 0;\n",
              "      width: 32px;\n",
              "    }\n",
              "\n",
              "    .colab-df-convert:hover {\n",
              "      background-color: #E2EBFA;\n",
              "      box-shadow: 0px 1px 2px rgba(60, 64, 67, 0.3), 0px 1px 3px 1px rgba(60, 64, 67, 0.15);\n",
              "      fill: #174EA6;\n",
              "    }\n",
              "\n",
              "    .colab-df-buttons div {\n",
              "      margin-bottom: 4px;\n",
              "    }\n",
              "\n",
              "    [theme=dark] .colab-df-convert {\n",
              "      background-color: #3B4455;\n",
              "      fill: #D2E3FC;\n",
              "    }\n",
              "\n",
              "    [theme=dark] .colab-df-convert:hover {\n",
              "      background-color: #434B5C;\n",
              "      box-shadow: 0px 1px 3px 1px rgba(0, 0, 0, 0.15);\n",
              "      filter: drop-shadow(0px 1px 2px rgba(0, 0, 0, 0.3));\n",
              "      fill: #FFFFFF;\n",
              "    }\n",
              "  </style>\n",
              "\n",
              "    <script>\n",
              "      const buttonEl =\n",
              "        document.querySelector('#df-211ced80-9b88-4118-ac4a-c975055de941 button.colab-df-convert');\n",
              "      buttonEl.style.display =\n",
              "        google.colab.kernel.accessAllowed ? 'block' : 'none';\n",
              "\n",
              "      async function convertToInteractive(key) {\n",
              "        const element = document.querySelector('#df-211ced80-9b88-4118-ac4a-c975055de941');\n",
              "        const dataTable =\n",
              "          await google.colab.kernel.invokeFunction('convertToInteractive',\n",
              "                                                    [key], {});\n",
              "        if (!dataTable) return;\n",
              "\n",
              "        const docLinkHtml = 'Like what you see? Visit the ' +\n",
              "          '<a target=\"_blank\" href=https://colab.research.google.com/notebooks/data_table.ipynb>data table notebook</a>'\n",
              "          + ' to learn more about interactive tables.';\n",
              "        element.innerHTML = '';\n",
              "        dataTable['output_type'] = 'display_data';\n",
              "        await google.colab.output.renderOutput(dataTable, element);\n",
              "        const docLink = document.createElement('div');\n",
              "        docLink.innerHTML = docLinkHtml;\n",
              "        element.appendChild(docLink);\n",
              "      }\n",
              "    </script>\n",
              "  </div>\n",
              "\n",
              "\n",
              "<div id=\"df-bed5519c-79b7-430a-8971-afda3a9b8530\">\n",
              "  <button class=\"colab-df-quickchart\" onclick=\"quickchart('df-bed5519c-79b7-430a-8971-afda3a9b8530')\"\n",
              "            title=\"Suggest charts\"\n",
              "            style=\"display:none;\">\n",
              "\n",
              "<svg xmlns=\"http://www.w3.org/2000/svg\" height=\"24px\"viewBox=\"0 0 24 24\"\n",
              "     width=\"24px\">\n",
              "    <g>\n",
              "        <path d=\"M19 3H5c-1.1 0-2 .9-2 2v14c0 1.1.9 2 2 2h14c1.1 0 2-.9 2-2V5c0-1.1-.9-2-2-2zM9 17H7v-7h2v7zm4 0h-2V7h2v10zm4 0h-2v-4h2v4z\"/>\n",
              "    </g>\n",
              "</svg>\n",
              "  </button>\n",
              "\n",
              "<style>\n",
              "  .colab-df-quickchart {\n",
              "      --bg-color: #E8F0FE;\n",
              "      --fill-color: #1967D2;\n",
              "      --hover-bg-color: #E2EBFA;\n",
              "      --hover-fill-color: #174EA6;\n",
              "      --disabled-fill-color: #AAA;\n",
              "      --disabled-bg-color: #DDD;\n",
              "  }\n",
              "\n",
              "  [theme=dark] .colab-df-quickchart {\n",
              "      --bg-color: #3B4455;\n",
              "      --fill-color: #D2E3FC;\n",
              "      --hover-bg-color: #434B5C;\n",
              "      --hover-fill-color: #FFFFFF;\n",
              "      --disabled-bg-color: #3B4455;\n",
              "      --disabled-fill-color: #666;\n",
              "  }\n",
              "\n",
              "  .colab-df-quickchart {\n",
              "    background-color: var(--bg-color);\n",
              "    border: none;\n",
              "    border-radius: 50%;\n",
              "    cursor: pointer;\n",
              "    display: none;\n",
              "    fill: var(--fill-color);\n",
              "    height: 32px;\n",
              "    padding: 0;\n",
              "    width: 32px;\n",
              "  }\n",
              "\n",
              "  .colab-df-quickchart:hover {\n",
              "    background-color: var(--hover-bg-color);\n",
              "    box-shadow: 0 1px 2px rgba(60, 64, 67, 0.3), 0 1px 3px 1px rgba(60, 64, 67, 0.15);\n",
              "    fill: var(--button-hover-fill-color);\n",
              "  }\n",
              "\n",
              "  .colab-df-quickchart-complete:disabled,\n",
              "  .colab-df-quickchart-complete:disabled:hover {\n",
              "    background-color: var(--disabled-bg-color);\n",
              "    fill: var(--disabled-fill-color);\n",
              "    box-shadow: none;\n",
              "  }\n",
              "\n",
              "  .colab-df-spinner {\n",
              "    border: 2px solid var(--fill-color);\n",
              "    border-color: transparent;\n",
              "    border-bottom-color: var(--fill-color);\n",
              "    animation:\n",
              "      spin 1s steps(1) infinite;\n",
              "  }\n",
              "\n",
              "  @keyframes spin {\n",
              "    0% {\n",
              "      border-color: transparent;\n",
              "      border-bottom-color: var(--fill-color);\n",
              "      border-left-color: var(--fill-color);\n",
              "    }\n",
              "    20% {\n",
              "      border-color: transparent;\n",
              "      border-left-color: var(--fill-color);\n",
              "      border-top-color: var(--fill-color);\n",
              "    }\n",
              "    30% {\n",
              "      border-color: transparent;\n",
              "      border-left-color: var(--fill-color);\n",
              "      border-top-color: var(--fill-color);\n",
              "      border-right-color: var(--fill-color);\n",
              "    }\n",
              "    40% {\n",
              "      border-color: transparent;\n",
              "      border-right-color: var(--fill-color);\n",
              "      border-top-color: var(--fill-color);\n",
              "    }\n",
              "    60% {\n",
              "      border-color: transparent;\n",
              "      border-right-color: var(--fill-color);\n",
              "    }\n",
              "    80% {\n",
              "      border-color: transparent;\n",
              "      border-right-color: var(--fill-color);\n",
              "      border-bottom-color: var(--fill-color);\n",
              "    }\n",
              "    90% {\n",
              "      border-color: transparent;\n",
              "      border-bottom-color: var(--fill-color);\n",
              "    }\n",
              "  }\n",
              "</style>\n",
              "\n",
              "  <script>\n",
              "    async function quickchart(key) {\n",
              "      const quickchartButtonEl =\n",
              "        document.querySelector('#' + key + ' button');\n",
              "      quickchartButtonEl.disabled = true;  // To prevent multiple clicks.\n",
              "      quickchartButtonEl.classList.add('colab-df-spinner');\n",
              "      try {\n",
              "        const charts = await google.colab.kernel.invokeFunction(\n",
              "            'suggestCharts', [key], {});\n",
              "      } catch (error) {\n",
              "        console.error('Error during call to suggestCharts:', error);\n",
              "      }\n",
              "      quickchartButtonEl.classList.remove('colab-df-spinner');\n",
              "      quickchartButtonEl.classList.add('colab-df-quickchart-complete');\n",
              "    }\n",
              "    (() => {\n",
              "      let quickchartButtonEl =\n",
              "        document.querySelector('#df-bed5519c-79b7-430a-8971-afda3a9b8530 button');\n",
              "      quickchartButtonEl.style.display =\n",
              "        google.colab.kernel.accessAllowed ? 'block' : 'none';\n",
              "    })();\n",
              "  </script>\n",
              "</div>\n",
              "    </div>\n",
              "  </div>\n"
            ],
            "application/vnd.google.colaboratory.intrinsic+json": {
              "type": "dataframe",
              "variable_name": "df",
              "summary": "{\n  \"name\": \"df\",\n  \"rows\": 19316,\n  \"fields\": [\n    {\n      \"column\": \"writer\",\n      \"properties\": {\n        \"dtype\": \"category\",\n        \"num_unique_values\": 48,\n        \"samples\": [\n          \"\\u041f\\u0430\\u0432\\u0435\\u043b \\u0410\\u043b\\u0435\\u043a\\u0441\\u0430\\u043d\\u0434\\u0440\\u043e\\u0432\\u0438\\u0447 \\u041a\\u0430\\u0442\\u0435\\u043d\\u0438\\u043d\",\n          \"\\u0422\\u043e\\u043b\\u0441\\u0442\\u043e\\u0439 \\u0410\\u043b\\u0435\\u043a\\u0441\\u0435\\u0439 \\u041a\\u043e\\u043d\\u0441\\u0442\\u0430\\u043d\\u0442\\u0438\\u043d\\u043e\\u0432\\u0438\\u0447\",\n          \"\\u0413\\u0430\\u043b\\u0438\\u043d\\u0430 \\u0413\\u0430\\u043b\\u0438\\u043d\\u0430\"\n        ],\n        \"semantic_type\": \"\",\n        \"description\": \"\"\n      }\n    },\n    {\n      \"column\": \"poem\",\n      \"properties\": {\n        \"dtype\": \"string\",\n        \"num_unique_values\": 18317,\n        \"samples\": [\n          \"\\u0411\\u0438\\u043b\\u0435\\u0442\\u0446\\u044b\",\n          \"\\u041e\\u0441\\u0435\\u043d\\u044c (\\u041d\\u0430\\u0441\\u0442\\u0430\\u043b\\u0430 \\u043e\\u0441\\u0435\\u043d\\u044c\\u2026)\",\n          \"\\u0423\\u0442\\u0440\\u043e (\\u00ab\\u0413\\u0440\\u044f\\u0434\\u043e\\u0439 \\u043f\\u0443\\u0440\\u043f\\u0443\\u0440\\u043d\\u043e\\u0439\\u2026\\u00bb)\"\n        ],\n        \"semantic_type\": \"\",\n        \"description\": \"\"\n      }\n    },\n    {\n      \"column\": \"text\",\n      \"properties\": {\n        \"dtype\": \"string\",\n        \"num_unique_values\": 18767,\n        \"samples\": [\n          \"\\u0422\\u0440\\u0438\\u0434\\u0446\\u0430\\u0442\\u0430\\u044f \\u0433\\u043e\\u0434\\u043e\\u0432\\u0449\\u0438\\u043d\\u0430\\n\\u0421\\u043e\\u044e\\u0437\\u0430 \\u2014 \\u0432\\u0435\\u0440\\u043d\\u0435\\u0439 \\u043b\\u044e\\u0431\\u0432\\u0438.\\n\\u042f \\u0437\\u043d\\u0430\\u044e \\u0442\\u0432\\u043e\\u0438 \\u043c\\u043e\\u0440\\u0449\\u0438\\u043d\\u044b,\\n\\u041a\\u0430\\u043a \\u0437\\u043d\\u0430\\u0435\\u0448\\u044c \\u0438 \\u0442\\u044b \\u2014 \\u043c\\u043e\\u0438,\\n\\u041a\\u043e\\u0442\\u043e\\u0440\\u044b\\u0445 \\u2014 \\u043d\\u0435 \\u0442\\u044b \\u043b\\u0438 \\u2014 \\u0430\\u0432\\u0442\\u043e\\u0440?\\n\\u0421\\u044a\\u0435\\u0434\\u0430\\u0432\\u0448\\u0438\\u0439 \\u0437\\u0430 \\u0434\\u0435\\u0441\\u0442\\u044c\\u044e \\u0434\\u0435\\u0441\\u0442\\u044c,\\n\\u0423\\u0447\\u0438\\u0432\\u0448\\u0438\\u0439, \\u0447\\u0442\\u043e \\u043d\\u0435\\u0442\\u0443 \\u2014 \\u0437\\u0430\\u0432\\u0442\\u0440\\u0430,\\n\\u0427\\u0442\\u043e \\u0442\\u043e\\u043b\\u044c\\u043a\\u043e \\u0441\\u0435\\u0433\\u043e\\u0434\\u043d\\u044f \\u2014 \\u0435\\u0441\\u0442\\u044c.\\n\\u0418 \\u0434\\u0435\\u043d\\u044c\\u0433\\u0438, \\u0438 \\u043f\\u0438\\u0441\\u044c\\u043c\\u0430 \\u0441 \\u043f\\u043e\\u0447\\u0442\\u044b \\u2014\\n\\u0421\\u0442\\u043e\\u043b \\u2014 \\u0441\\u0431\\u0440\\u0430\\u0441\\u044b\\u0432\\u0430\\u0432\\u0448\\u0438\\u0439 \\u2014 \\u0432 \\u043f\\u043e\\u0442\\u043e\\u043a!\\n\\u0422\\u0432\\u0435\\u0440\\u0434\\u0438\\u0432\\u0448\\u0438\\u0439, \\u0447\\u0442\\u043e \\u043a\\u0430\\u0436\\u0434\\u043e\\u0439 \\u0441\\u0442\\u0440\\u043e\\u0447\\u043a\\u0438\\n\\u0421\\u0435\\u0433\\u043e\\u0434\\u043d\\u044f \\u2014 \\u043f\\u043e\\u0441\\u043b\\u0435\\u0434\\u043d\\u0438\\u0439 \\u0441\\u0440\\u043e\\u043a.\\n\\u0413\\u0440\\u043e\\u0437\\u0438\\u0432\\u0448\\u0438\\u0439, \\u0447\\u0442\\u043e \\u0441\\u0447\\u0435\\u0442\\u043e\\u043c \\u043b\\u043e\\u0436\\u0435\\u043a\\n\\u0421\\u043e\\u0437\\u0434\\u0430\\u0442\\u0435\\u043b\\u044e \\u043d\\u0435 \\u0432\\u043e\\u0437\\u0434\\u0430\\u0448\\u044c,\\n\\u0427\\u0442\\u043e \\u0437\\u0430\\u0432\\u0442\\u0440\\u0430 \\u043c\\u0435\\u043d\\u044f \\u043f\\u043e\\u043b\\u043e\\u0436\\u0430\\u0442 \\u2014\\n\\u0414\\u0443\\u0440\\u0438\\u0449\\u0443 \\u2014 \\u0434\\u0430 \\u043d\\u0430 \\u0442\\u0435\\u0431\\u044f \\u0436!\",\n          \"\\u041e\\u0442 \\u0421\\u043e\\u043b\\u043d\\u0446\\u0430 \\u044f \\u0432\\u0435\\u0434\\u0443 \\u0441\\u0432\\u043e\\u0439 \\u0434\\u0440\\u0435\\u0432\\u043d\\u0438\\u0439 \\u0440\\u043e\\u0434!\\n\\u041c\\u0438\\u0440\\u0440\\u0430 \\u041b\\u043e\\u0445\\u0432\\u0438\\u0446\\u043a\\u0430\\u044f\\n\\u00ab\\u041e\\u0442 \\u0421\\u043e\\u043b\\u043d\\u0446\\u0430 \\u044f \\u0432\\u0435\\u0434\\u0443 \\u0441\\u0432\\u043e\\u0439 \\u0440\\u043e\\u0434!\\u00bb\\n\\u0421\\u043a\\u0430\\u0437\\u0430\\u043b\\u0430 \\u0434\\u043e\\u0431\\u043b\\u0435\\u0441\\u0442\\u043d\\u0430\\u044f \\u0421\\u0430\\u0431\\u0430.\\n\\u0412 \\u043a\\u0440\\u0430\\u044e \\u0431\\u0430\\u043d\\u0430\\u043d\\u0430, \\u0437\\u043c\\u0435\\u0439 \\u0438 \\u043a\\u0440\\u0430\\u0431\\u0430\\n\\u0416\\u0438\\u043b \\u0432\\u043f\\u0435\\u0447\\u0430\\u0442\\u043b\\u0438\\u0442\\u0435\\u043b\\u044c\\u043d\\u044b\\u0439 \\u043d\\u0430\\u0440\\u043e\\u0434.\\n\\u0426\\u0430\\u0440\\u044c \\u0441\\u043b\\u043e\\u0432 \\u043e\\u0431\\u0440\\u0430\\u0442\\u043d\\u043e \\u043d\\u0435 \\u0431\\u0435\\u0440\\u0435\\u0442,\\n\\u041a\\u043e\\u0433\\u0434\\u0430 \\u0437\\u0432\\u0443\\u0447\\u0430\\u0442 \\u0441\\u043b\\u043e\\u0432\\u0430 \\u043d\\u0435 \\u0441\\u043b\\u0430\\u0431\\u043e\\u2026\\n\\u00ab\\u041e\\u0442 \\u0421\\u043e\\u043b\\u043d\\u0446\\u0430 \\u044f \\u0432\\u0435\\u0434\\u0443 \\u0441\\u0432\\u043e\\u0439 \\u0440\\u043e\\u0434!\\u00bb\\n\\u0421\\u043a\\u0430\\u0437\\u0430\\u043b\\u0430 \\u0434\\u043e\\u0431\\u043b\\u0435\\u0441\\u0442\\u043d\\u0430\\u044f \\u0421\\u0430\\u0431\\u0430.\\n\\u0412\\u0441\\u0435\\u0433\\u0434\\u0430 \\u0432\\u0435\\u043d\\u0435\\u0446! \\u0412\\u0441\\u0435\\u0433\\u0434\\u0430 \\u0432\\u043f\\u0435\\u0440\\u0435\\u0434! \\u2014\\n\\u0412\\u043e\\u0442 \\u043b\\u043e\\u0437\\u0443\\u043d\\u0433 \\u0437\\u043d\\u043e\\u0439\\u043d\\u0430\\u0433\\u043e \\u0430\\u0440\\u0430\\u0431\\u0430.\\n\\u041d\\u043e \\u0432 \\u043d\\u0435\\u0431\\u0435 \\u0433\\u0440\\u044f\\u043d\\u0443\\u043b\\u0430 \\u0433\\u0440\\u043e\\u0437\\u0430 \\u0431\\u044b,\\n\\u041a\\u043e\\u0433\\u0434\\u0430 \\u0431\\u044b \\u0441\\u043c\\u0435\\u043b \\u0432\\u043e\\u0441\\u043a\\u043b\\u0438\\u043a\\u043d\\u0443\\u0442\\u044c \\u00ab\\u043a\\u0440\\u043e\\u0442\\u00bb:\\n\\u2014 \\u041e\\u0442 \\u0421\\u043e\\u043b\\u043d\\u0446\\u0430 \\u044f \\u0432\\u0435\\u0434\\u0443 \\u0441\\u0432\\u043e\\u0439 \\u0440\\u043e\\u0434!\",\n          \"\\u00ab\\u041d\\u0435 \\u0434\\u0430\\u0439 \\u043d\\u0430\\u043c \\u0434\\u0443\\u0445\\u0443 \\u043f\\u0440\\u0430\\u0437\\u0434\\u043d\\u043e\\u0441\\u043b\\u043e\\u0432\\u044c\\u044f\\u00bb!\\n\\u0418\\u0442\\u0430\\u043a, \\u043e\\u0442 \\u043d\\u044b\\u043d\\u0435\\u0448\\u043d\\u0435\\u0433\\u043e \\u0434\\u043d\\u044f\\n\\u0422\\u044b \\u0432 \\u0441\\u0438\\u043b\\u0443 \\u043d\\u0430\\u0448\\u0435\\u0433\\u043e \\u0443\\u0441\\u043b\\u043e\\u0432\\u044c\\u044f\\n\\u041c\\u043e\\u043b\\u0438\\u0442\\u0432 \\u043d\\u0435 \\u0442\\u0440\\u0435\\u0431\\u0443\\u0439 \\u043e\\u0442 \\u043c\\u0435\\u043d\\u044f.\"\n        ],\n        \"semantic_type\": \"\",\n        \"description\": \"\"\n      }\n    }\n  ]\n}"
            }
          },
          "metadata": {},
          "execution_count": 11
        }
      ],
      "source": [
        "##Чтение датасета с текстом\n",
        "df = pd.read_csv(\"/content/poems.csv\", encoding='utf-8', sep=\",\")\n",
        "df.head()"
      ]
    },
    {
      "cell_type": "code",
      "execution_count": 12,
      "metadata": {
        "id": "Epcay2MmaK68",
        "colab": {
          "base_uri": "https://localhost:8080/"
        },
        "outputId": "b67b0289-c2f1-434e-ad6e-3ebc024d8af3"
      },
      "outputs": [
        {
          "output_type": "stream",
          "name": "stdout",
          "text": [
            "Requirement already satisfied: Pymorphy2 in /usr/local/lib/python3.10/dist-packages (0.9.1)\n",
            "Requirement already satisfied: dawg-python>=0.7.1 in /usr/local/lib/python3.10/dist-packages (from Pymorphy2) (0.7.2)\n",
            "Requirement already satisfied: pymorphy2-dicts-ru<3.0,>=2.4 in /usr/local/lib/python3.10/dist-packages (from Pymorphy2) (2.4.417127.4579844)\n",
            "Requirement already satisfied: docopt>=0.6 in /usr/local/lib/python3.10/dist-packages (from Pymorphy2) (0.6.2)\n"
          ]
        }
      ],
      "source": [
        "#help(pd.read_csv)\n",
        "!pip install Pymorphy2"
      ]
    },
    {
      "cell_type": "code",
      "source": [
        "df.head(5)"
      ],
      "metadata": {
        "colab": {
          "base_uri": "https://localhost:8080/",
          "height": 206
        },
        "id": "z8O6pfnm0D64",
        "outputId": "602b5ab6-793a-48ab-a042-2e29799e3244"
      },
      "execution_count": 13,
      "outputs": [
        {
          "output_type": "execute_result",
          "data": {
            "text/plain": [
              "                     writer                                       poem  \\\n",
              "0  Лермонтов Михаил Юрьевич                            Любовь мертвеца   \n",
              "1  Лермонтов Михаил Юрьевич                       На серебряные шпоры…   \n",
              "2  Лермонтов Михаил Юрьевич                  Вид гор из степей Козлова   \n",
              "3  Лермонтов Михаил Юрьевич     К  (О, не скрывай! Ты плакала об нем…)   \n",
              "4  Лермонтов Михаил Юрьевич  Жалобы турка (письмо к другу, иностранцу)   \n",
              "\n",
              "                                                text  \n",
              "0                                                NaN  \n",
              "1  На серебряные шпоры\\nЯ в раздумии гляжу;\\nЗа т...  \n",
              "2  Пилигрим\\nАллах ли там среди пустыни\\nЗастывши...  \n",
              "3  О, не скрывай! Ты плакала об нем –\\nИ я его лю...  \n",
              "4  Ты знал ли дикий край, под знойными лучами,\\nГ...  "
            ],
            "text/html": [
              "\n",
              "  <div id=\"df-4fa8b669-8661-4ad4-a200-80355b2c6261\" class=\"colab-df-container\">\n",
              "    <div>\n",
              "<style scoped>\n",
              "    .dataframe tbody tr th:only-of-type {\n",
              "        vertical-align: middle;\n",
              "    }\n",
              "\n",
              "    .dataframe tbody tr th {\n",
              "        vertical-align: top;\n",
              "    }\n",
              "\n",
              "    .dataframe thead th {\n",
              "        text-align: right;\n",
              "    }\n",
              "</style>\n",
              "<table border=\"1\" class=\"dataframe\">\n",
              "  <thead>\n",
              "    <tr style=\"text-align: right;\">\n",
              "      <th></th>\n",
              "      <th>writer</th>\n",
              "      <th>poem</th>\n",
              "      <th>text</th>\n",
              "    </tr>\n",
              "  </thead>\n",
              "  <tbody>\n",
              "    <tr>\n",
              "      <th>0</th>\n",
              "      <td>Лермонтов Михаил Юрьевич</td>\n",
              "      <td>Любовь мертвеца</td>\n",
              "      <td>NaN</td>\n",
              "    </tr>\n",
              "    <tr>\n",
              "      <th>1</th>\n",
              "      <td>Лермонтов Михаил Юрьевич</td>\n",
              "      <td>На серебряные шпоры…</td>\n",
              "      <td>На серебряные шпоры\\nЯ в раздумии гляжу;\\nЗа т...</td>\n",
              "    </tr>\n",
              "    <tr>\n",
              "      <th>2</th>\n",
              "      <td>Лермонтов Михаил Юрьевич</td>\n",
              "      <td>Вид гор из степей Козлова</td>\n",
              "      <td>Пилигрим\\nАллах ли там среди пустыни\\nЗастывши...</td>\n",
              "    </tr>\n",
              "    <tr>\n",
              "      <th>3</th>\n",
              "      <td>Лермонтов Михаил Юрьевич</td>\n",
              "      <td>К  (О, не скрывай! Ты плакала об нем…)</td>\n",
              "      <td>О, не скрывай! Ты плакала об нем –\\nИ я его лю...</td>\n",
              "    </tr>\n",
              "    <tr>\n",
              "      <th>4</th>\n",
              "      <td>Лермонтов Михаил Юрьевич</td>\n",
              "      <td>Жалобы турка (письмо к другу, иностранцу)</td>\n",
              "      <td>Ты знал ли дикий край, под знойными лучами,\\nГ...</td>\n",
              "    </tr>\n",
              "  </tbody>\n",
              "</table>\n",
              "</div>\n",
              "    <div class=\"colab-df-buttons\">\n",
              "\n",
              "  <div class=\"colab-df-container\">\n",
              "    <button class=\"colab-df-convert\" onclick=\"convertToInteractive('df-4fa8b669-8661-4ad4-a200-80355b2c6261')\"\n",
              "            title=\"Convert this dataframe to an interactive table.\"\n",
              "            style=\"display:none;\">\n",
              "\n",
              "  <svg xmlns=\"http://www.w3.org/2000/svg\" height=\"24px\" viewBox=\"0 -960 960 960\">\n",
              "    <path d=\"M120-120v-720h720v720H120Zm60-500h600v-160H180v160Zm220 220h160v-160H400v160Zm0 220h160v-160H400v160ZM180-400h160v-160H180v160Zm440 0h160v-160H620v160ZM180-180h160v-160H180v160Zm440 0h160v-160H620v160Z\"/>\n",
              "  </svg>\n",
              "    </button>\n",
              "\n",
              "  <style>\n",
              "    .colab-df-container {\n",
              "      display:flex;\n",
              "      gap: 12px;\n",
              "    }\n",
              "\n",
              "    .colab-df-convert {\n",
              "      background-color: #E8F0FE;\n",
              "      border: none;\n",
              "      border-radius: 50%;\n",
              "      cursor: pointer;\n",
              "      display: none;\n",
              "      fill: #1967D2;\n",
              "      height: 32px;\n",
              "      padding: 0 0 0 0;\n",
              "      width: 32px;\n",
              "    }\n",
              "\n",
              "    .colab-df-convert:hover {\n",
              "      background-color: #E2EBFA;\n",
              "      box-shadow: 0px 1px 2px rgba(60, 64, 67, 0.3), 0px 1px 3px 1px rgba(60, 64, 67, 0.15);\n",
              "      fill: #174EA6;\n",
              "    }\n",
              "\n",
              "    .colab-df-buttons div {\n",
              "      margin-bottom: 4px;\n",
              "    }\n",
              "\n",
              "    [theme=dark] .colab-df-convert {\n",
              "      background-color: #3B4455;\n",
              "      fill: #D2E3FC;\n",
              "    }\n",
              "\n",
              "    [theme=dark] .colab-df-convert:hover {\n",
              "      background-color: #434B5C;\n",
              "      box-shadow: 0px 1px 3px 1px rgba(0, 0, 0, 0.15);\n",
              "      filter: drop-shadow(0px 1px 2px rgba(0, 0, 0, 0.3));\n",
              "      fill: #FFFFFF;\n",
              "    }\n",
              "  </style>\n",
              "\n",
              "    <script>\n",
              "      const buttonEl =\n",
              "        document.querySelector('#df-4fa8b669-8661-4ad4-a200-80355b2c6261 button.colab-df-convert');\n",
              "      buttonEl.style.display =\n",
              "        google.colab.kernel.accessAllowed ? 'block' : 'none';\n",
              "\n",
              "      async function convertToInteractive(key) {\n",
              "        const element = document.querySelector('#df-4fa8b669-8661-4ad4-a200-80355b2c6261');\n",
              "        const dataTable =\n",
              "          await google.colab.kernel.invokeFunction('convertToInteractive',\n",
              "                                                    [key], {});\n",
              "        if (!dataTable) return;\n",
              "\n",
              "        const docLinkHtml = 'Like what you see? Visit the ' +\n",
              "          '<a target=\"_blank\" href=https://colab.research.google.com/notebooks/data_table.ipynb>data table notebook</a>'\n",
              "          + ' to learn more about interactive tables.';\n",
              "        element.innerHTML = '';\n",
              "        dataTable['output_type'] = 'display_data';\n",
              "        await google.colab.output.renderOutput(dataTable, element);\n",
              "        const docLink = document.createElement('div');\n",
              "        docLink.innerHTML = docLinkHtml;\n",
              "        element.appendChild(docLink);\n",
              "      }\n",
              "    </script>\n",
              "  </div>\n",
              "\n",
              "\n",
              "<div id=\"df-8cdb9dff-f74d-4aa9-98f9-facad08f1905\">\n",
              "  <button class=\"colab-df-quickchart\" onclick=\"quickchart('df-8cdb9dff-f74d-4aa9-98f9-facad08f1905')\"\n",
              "            title=\"Suggest charts\"\n",
              "            style=\"display:none;\">\n",
              "\n",
              "<svg xmlns=\"http://www.w3.org/2000/svg\" height=\"24px\"viewBox=\"0 0 24 24\"\n",
              "     width=\"24px\">\n",
              "    <g>\n",
              "        <path d=\"M19 3H5c-1.1 0-2 .9-2 2v14c0 1.1.9 2 2 2h14c1.1 0 2-.9 2-2V5c0-1.1-.9-2-2-2zM9 17H7v-7h2v7zm4 0h-2V7h2v10zm4 0h-2v-4h2v4z\"/>\n",
              "    </g>\n",
              "</svg>\n",
              "  </button>\n",
              "\n",
              "<style>\n",
              "  .colab-df-quickchart {\n",
              "      --bg-color: #E8F0FE;\n",
              "      --fill-color: #1967D2;\n",
              "      --hover-bg-color: #E2EBFA;\n",
              "      --hover-fill-color: #174EA6;\n",
              "      --disabled-fill-color: #AAA;\n",
              "      --disabled-bg-color: #DDD;\n",
              "  }\n",
              "\n",
              "  [theme=dark] .colab-df-quickchart {\n",
              "      --bg-color: #3B4455;\n",
              "      --fill-color: #D2E3FC;\n",
              "      --hover-bg-color: #434B5C;\n",
              "      --hover-fill-color: #FFFFFF;\n",
              "      --disabled-bg-color: #3B4455;\n",
              "      --disabled-fill-color: #666;\n",
              "  }\n",
              "\n",
              "  .colab-df-quickchart {\n",
              "    background-color: var(--bg-color);\n",
              "    border: none;\n",
              "    border-radius: 50%;\n",
              "    cursor: pointer;\n",
              "    display: none;\n",
              "    fill: var(--fill-color);\n",
              "    height: 32px;\n",
              "    padding: 0;\n",
              "    width: 32px;\n",
              "  }\n",
              "\n",
              "  .colab-df-quickchart:hover {\n",
              "    background-color: var(--hover-bg-color);\n",
              "    box-shadow: 0 1px 2px rgba(60, 64, 67, 0.3), 0 1px 3px 1px rgba(60, 64, 67, 0.15);\n",
              "    fill: var(--button-hover-fill-color);\n",
              "  }\n",
              "\n",
              "  .colab-df-quickchart-complete:disabled,\n",
              "  .colab-df-quickchart-complete:disabled:hover {\n",
              "    background-color: var(--disabled-bg-color);\n",
              "    fill: var(--disabled-fill-color);\n",
              "    box-shadow: none;\n",
              "  }\n",
              "\n",
              "  .colab-df-spinner {\n",
              "    border: 2px solid var(--fill-color);\n",
              "    border-color: transparent;\n",
              "    border-bottom-color: var(--fill-color);\n",
              "    animation:\n",
              "      spin 1s steps(1) infinite;\n",
              "  }\n",
              "\n",
              "  @keyframes spin {\n",
              "    0% {\n",
              "      border-color: transparent;\n",
              "      border-bottom-color: var(--fill-color);\n",
              "      border-left-color: var(--fill-color);\n",
              "    }\n",
              "    20% {\n",
              "      border-color: transparent;\n",
              "      border-left-color: var(--fill-color);\n",
              "      border-top-color: var(--fill-color);\n",
              "    }\n",
              "    30% {\n",
              "      border-color: transparent;\n",
              "      border-left-color: var(--fill-color);\n",
              "      border-top-color: var(--fill-color);\n",
              "      border-right-color: var(--fill-color);\n",
              "    }\n",
              "    40% {\n",
              "      border-color: transparent;\n",
              "      border-right-color: var(--fill-color);\n",
              "      border-top-color: var(--fill-color);\n",
              "    }\n",
              "    60% {\n",
              "      border-color: transparent;\n",
              "      border-right-color: var(--fill-color);\n",
              "    }\n",
              "    80% {\n",
              "      border-color: transparent;\n",
              "      border-right-color: var(--fill-color);\n",
              "      border-bottom-color: var(--fill-color);\n",
              "    }\n",
              "    90% {\n",
              "      border-color: transparent;\n",
              "      border-bottom-color: var(--fill-color);\n",
              "    }\n",
              "  }\n",
              "</style>\n",
              "\n",
              "  <script>\n",
              "    async function quickchart(key) {\n",
              "      const quickchartButtonEl =\n",
              "        document.querySelector('#' + key + ' button');\n",
              "      quickchartButtonEl.disabled = true;  // To prevent multiple clicks.\n",
              "      quickchartButtonEl.classList.add('colab-df-spinner');\n",
              "      try {\n",
              "        const charts = await google.colab.kernel.invokeFunction(\n",
              "            'suggestCharts', [key], {});\n",
              "      } catch (error) {\n",
              "        console.error('Error during call to suggestCharts:', error);\n",
              "      }\n",
              "      quickchartButtonEl.classList.remove('colab-df-spinner');\n",
              "      quickchartButtonEl.classList.add('colab-df-quickchart-complete');\n",
              "    }\n",
              "    (() => {\n",
              "      let quickchartButtonEl =\n",
              "        document.querySelector('#df-8cdb9dff-f74d-4aa9-98f9-facad08f1905 button');\n",
              "      quickchartButtonEl.style.display =\n",
              "        google.colab.kernel.accessAllowed ? 'block' : 'none';\n",
              "    })();\n",
              "  </script>\n",
              "</div>\n",
              "    </div>\n",
              "  </div>\n"
            ],
            "application/vnd.google.colaboratory.intrinsic+json": {
              "type": "dataframe",
              "variable_name": "df",
              "summary": "{\n  \"name\": \"df\",\n  \"rows\": 19316,\n  \"fields\": [\n    {\n      \"column\": \"writer\",\n      \"properties\": {\n        \"dtype\": \"category\",\n        \"num_unique_values\": 48,\n        \"samples\": [\n          \"\\u041f\\u0430\\u0432\\u0435\\u043b \\u0410\\u043b\\u0435\\u043a\\u0441\\u0430\\u043d\\u0434\\u0440\\u043e\\u0432\\u0438\\u0447 \\u041a\\u0430\\u0442\\u0435\\u043d\\u0438\\u043d\",\n          \"\\u0422\\u043e\\u043b\\u0441\\u0442\\u043e\\u0439 \\u0410\\u043b\\u0435\\u043a\\u0441\\u0435\\u0439 \\u041a\\u043e\\u043d\\u0441\\u0442\\u0430\\u043d\\u0442\\u0438\\u043d\\u043e\\u0432\\u0438\\u0447\",\n          \"\\u0413\\u0430\\u043b\\u0438\\u043d\\u0430 \\u0413\\u0430\\u043b\\u0438\\u043d\\u0430\"\n        ],\n        \"semantic_type\": \"\",\n        \"description\": \"\"\n      }\n    },\n    {\n      \"column\": \"poem\",\n      \"properties\": {\n        \"dtype\": \"string\",\n        \"num_unique_values\": 18317,\n        \"samples\": [\n          \"\\u0411\\u0438\\u043b\\u0435\\u0442\\u0446\\u044b\",\n          \"\\u041e\\u0441\\u0435\\u043d\\u044c (\\u041d\\u0430\\u0441\\u0442\\u0430\\u043b\\u0430 \\u043e\\u0441\\u0435\\u043d\\u044c\\u2026)\",\n          \"\\u0423\\u0442\\u0440\\u043e (\\u00ab\\u0413\\u0440\\u044f\\u0434\\u043e\\u0439 \\u043f\\u0443\\u0440\\u043f\\u0443\\u0440\\u043d\\u043e\\u0439\\u2026\\u00bb)\"\n        ],\n        \"semantic_type\": \"\",\n        \"description\": \"\"\n      }\n    },\n    {\n      \"column\": \"text\",\n      \"properties\": {\n        \"dtype\": \"string\",\n        \"num_unique_values\": 18767,\n        \"samples\": [\n          \"\\u0422\\u0440\\u0438\\u0434\\u0446\\u0430\\u0442\\u0430\\u044f \\u0433\\u043e\\u0434\\u043e\\u0432\\u0449\\u0438\\u043d\\u0430\\n\\u0421\\u043e\\u044e\\u0437\\u0430 \\u2014 \\u0432\\u0435\\u0440\\u043d\\u0435\\u0439 \\u043b\\u044e\\u0431\\u0432\\u0438.\\n\\u042f \\u0437\\u043d\\u0430\\u044e \\u0442\\u0432\\u043e\\u0438 \\u043c\\u043e\\u0440\\u0449\\u0438\\u043d\\u044b,\\n\\u041a\\u0430\\u043a \\u0437\\u043d\\u0430\\u0435\\u0448\\u044c \\u0438 \\u0442\\u044b \\u2014 \\u043c\\u043e\\u0438,\\n\\u041a\\u043e\\u0442\\u043e\\u0440\\u044b\\u0445 \\u2014 \\u043d\\u0435 \\u0442\\u044b \\u043b\\u0438 \\u2014 \\u0430\\u0432\\u0442\\u043e\\u0440?\\n\\u0421\\u044a\\u0435\\u0434\\u0430\\u0432\\u0448\\u0438\\u0439 \\u0437\\u0430 \\u0434\\u0435\\u0441\\u0442\\u044c\\u044e \\u0434\\u0435\\u0441\\u0442\\u044c,\\n\\u0423\\u0447\\u0438\\u0432\\u0448\\u0438\\u0439, \\u0447\\u0442\\u043e \\u043d\\u0435\\u0442\\u0443 \\u2014 \\u0437\\u0430\\u0432\\u0442\\u0440\\u0430,\\n\\u0427\\u0442\\u043e \\u0442\\u043e\\u043b\\u044c\\u043a\\u043e \\u0441\\u0435\\u0433\\u043e\\u0434\\u043d\\u044f \\u2014 \\u0435\\u0441\\u0442\\u044c.\\n\\u0418 \\u0434\\u0435\\u043d\\u044c\\u0433\\u0438, \\u0438 \\u043f\\u0438\\u0441\\u044c\\u043c\\u0430 \\u0441 \\u043f\\u043e\\u0447\\u0442\\u044b \\u2014\\n\\u0421\\u0442\\u043e\\u043b \\u2014 \\u0441\\u0431\\u0440\\u0430\\u0441\\u044b\\u0432\\u0430\\u0432\\u0448\\u0438\\u0439 \\u2014 \\u0432 \\u043f\\u043e\\u0442\\u043e\\u043a!\\n\\u0422\\u0432\\u0435\\u0440\\u0434\\u0438\\u0432\\u0448\\u0438\\u0439, \\u0447\\u0442\\u043e \\u043a\\u0430\\u0436\\u0434\\u043e\\u0439 \\u0441\\u0442\\u0440\\u043e\\u0447\\u043a\\u0438\\n\\u0421\\u0435\\u0433\\u043e\\u0434\\u043d\\u044f \\u2014 \\u043f\\u043e\\u0441\\u043b\\u0435\\u0434\\u043d\\u0438\\u0439 \\u0441\\u0440\\u043e\\u043a.\\n\\u0413\\u0440\\u043e\\u0437\\u0438\\u0432\\u0448\\u0438\\u0439, \\u0447\\u0442\\u043e \\u0441\\u0447\\u0435\\u0442\\u043e\\u043c \\u043b\\u043e\\u0436\\u0435\\u043a\\n\\u0421\\u043e\\u0437\\u0434\\u0430\\u0442\\u0435\\u043b\\u044e \\u043d\\u0435 \\u0432\\u043e\\u0437\\u0434\\u0430\\u0448\\u044c,\\n\\u0427\\u0442\\u043e \\u0437\\u0430\\u0432\\u0442\\u0440\\u0430 \\u043c\\u0435\\u043d\\u044f \\u043f\\u043e\\u043b\\u043e\\u0436\\u0430\\u0442 \\u2014\\n\\u0414\\u0443\\u0440\\u0438\\u0449\\u0443 \\u2014 \\u0434\\u0430 \\u043d\\u0430 \\u0442\\u0435\\u0431\\u044f \\u0436!\",\n          \"\\u041e\\u0442 \\u0421\\u043e\\u043b\\u043d\\u0446\\u0430 \\u044f \\u0432\\u0435\\u0434\\u0443 \\u0441\\u0432\\u043e\\u0439 \\u0434\\u0440\\u0435\\u0432\\u043d\\u0438\\u0439 \\u0440\\u043e\\u0434!\\n\\u041c\\u0438\\u0440\\u0440\\u0430 \\u041b\\u043e\\u0445\\u0432\\u0438\\u0446\\u043a\\u0430\\u044f\\n\\u00ab\\u041e\\u0442 \\u0421\\u043e\\u043b\\u043d\\u0446\\u0430 \\u044f \\u0432\\u0435\\u0434\\u0443 \\u0441\\u0432\\u043e\\u0439 \\u0440\\u043e\\u0434!\\u00bb\\n\\u0421\\u043a\\u0430\\u0437\\u0430\\u043b\\u0430 \\u0434\\u043e\\u0431\\u043b\\u0435\\u0441\\u0442\\u043d\\u0430\\u044f \\u0421\\u0430\\u0431\\u0430.\\n\\u0412 \\u043a\\u0440\\u0430\\u044e \\u0431\\u0430\\u043d\\u0430\\u043d\\u0430, \\u0437\\u043c\\u0435\\u0439 \\u0438 \\u043a\\u0440\\u0430\\u0431\\u0430\\n\\u0416\\u0438\\u043b \\u0432\\u043f\\u0435\\u0447\\u0430\\u0442\\u043b\\u0438\\u0442\\u0435\\u043b\\u044c\\u043d\\u044b\\u0439 \\u043d\\u0430\\u0440\\u043e\\u0434.\\n\\u0426\\u0430\\u0440\\u044c \\u0441\\u043b\\u043e\\u0432 \\u043e\\u0431\\u0440\\u0430\\u0442\\u043d\\u043e \\u043d\\u0435 \\u0431\\u0435\\u0440\\u0435\\u0442,\\n\\u041a\\u043e\\u0433\\u0434\\u0430 \\u0437\\u0432\\u0443\\u0447\\u0430\\u0442 \\u0441\\u043b\\u043e\\u0432\\u0430 \\u043d\\u0435 \\u0441\\u043b\\u0430\\u0431\\u043e\\u2026\\n\\u00ab\\u041e\\u0442 \\u0421\\u043e\\u043b\\u043d\\u0446\\u0430 \\u044f \\u0432\\u0435\\u0434\\u0443 \\u0441\\u0432\\u043e\\u0439 \\u0440\\u043e\\u0434!\\u00bb\\n\\u0421\\u043a\\u0430\\u0437\\u0430\\u043b\\u0430 \\u0434\\u043e\\u0431\\u043b\\u0435\\u0441\\u0442\\u043d\\u0430\\u044f \\u0421\\u0430\\u0431\\u0430.\\n\\u0412\\u0441\\u0435\\u0433\\u0434\\u0430 \\u0432\\u0435\\u043d\\u0435\\u0446! \\u0412\\u0441\\u0435\\u0433\\u0434\\u0430 \\u0432\\u043f\\u0435\\u0440\\u0435\\u0434! \\u2014\\n\\u0412\\u043e\\u0442 \\u043b\\u043e\\u0437\\u0443\\u043d\\u0433 \\u0437\\u043d\\u043e\\u0439\\u043d\\u0430\\u0433\\u043e \\u0430\\u0440\\u0430\\u0431\\u0430.\\n\\u041d\\u043e \\u0432 \\u043d\\u0435\\u0431\\u0435 \\u0433\\u0440\\u044f\\u043d\\u0443\\u043b\\u0430 \\u0433\\u0440\\u043e\\u0437\\u0430 \\u0431\\u044b,\\n\\u041a\\u043e\\u0433\\u0434\\u0430 \\u0431\\u044b \\u0441\\u043c\\u0435\\u043b \\u0432\\u043e\\u0441\\u043a\\u043b\\u0438\\u043a\\u043d\\u0443\\u0442\\u044c \\u00ab\\u043a\\u0440\\u043e\\u0442\\u00bb:\\n\\u2014 \\u041e\\u0442 \\u0421\\u043e\\u043b\\u043d\\u0446\\u0430 \\u044f \\u0432\\u0435\\u0434\\u0443 \\u0441\\u0432\\u043e\\u0439 \\u0440\\u043e\\u0434!\",\n          \"\\u00ab\\u041d\\u0435 \\u0434\\u0430\\u0439 \\u043d\\u0430\\u043c \\u0434\\u0443\\u0445\\u0443 \\u043f\\u0440\\u0430\\u0437\\u0434\\u043d\\u043e\\u0441\\u043b\\u043e\\u0432\\u044c\\u044f\\u00bb!\\n\\u0418\\u0442\\u0430\\u043a, \\u043e\\u0442 \\u043d\\u044b\\u043d\\u0435\\u0448\\u043d\\u0435\\u0433\\u043e \\u0434\\u043d\\u044f\\n\\u0422\\u044b \\u0432 \\u0441\\u0438\\u043b\\u0443 \\u043d\\u0430\\u0448\\u0435\\u0433\\u043e \\u0443\\u0441\\u043b\\u043e\\u0432\\u044c\\u044f\\n\\u041c\\u043e\\u043b\\u0438\\u0442\\u0432 \\u043d\\u0435 \\u0442\\u0440\\u0435\\u0431\\u0443\\u0439 \\u043e\\u0442 \\u043c\\u0435\\u043d\\u044f.\"\n        ],\n        \"semantic_type\": \"\",\n        \"description\": \"\"\n      }\n    }\n  ]\n}"
            }
          },
          "metadata": {},
          "execution_count": 13
        }
      ]
    },
    {
      "cell_type": "code",
      "execution_count": 14,
      "metadata": {
        "id": "dVgK1rRUaK68"
      },
      "outputs": [],
      "source": [
        "from nltk.corpus import stopwords\n",
        "with open(\"stopwords.txt\", 'r', encoding=\"utf8\") as f:\n",
        "    STOPWORDS = f.read().splitlines()\n",
        "# функция, удаляющая стопслова из текстов\n",
        "def stopwords(text):\n",
        "    return \" \".join([word for word in str(text).split() if word not in STOPWORDS])\n",
        "# Удаление эмодзи\n",
        "def emoji(string):\n",
        "    emoji_pattern = re.compile(\"[\"\n",
        "                           u\"\\U0001F600-\\U0001F64F\"  # emoticons\n",
        "                           u\"\\U0001F300-\\U0001F5FF\"  # symbols & pictographs\n",
        "                           u\"\\U0001F680-\\U0001F6FF\"  # transport & map symbols\n",
        "                           u\"\\U0001F1E0-\\U0001F1FF\"  # flags (iOS)\n",
        "                           u\"\\U00002702-\\U000027B0\"\n",
        "                           u\"\\U000024C2-\\U0001F251\"\n",
        "                           \"]+\", flags=re.UNICODE)\n",
        "    return emoji_pattern.sub(r'', string)\n",
        "#Удаление URL\n",
        "# Function for url's\n",
        "def remove_urls(text):\n",
        "    url_pattern = re.compile(r'https?://\\S+|www\\.\\S+')\n",
        "    return url_pattern.sub(r'', text)\n",
        "from bs4 import BeautifulSoup\n",
        "#Function for removing html\n",
        "def html(text):\n",
        "    return BeautifulSoup(text, \"lxml\").text\n",
        "#Можно выполнить при помощи NLTK. Заодно проведем лемматизацию\n",
        "from pymorphy2 import MorphAnalyzer\n",
        "from nltk import sent_tokenize, word_tokenize, regexp_tokenize\n",
        "\n",
        "def tokenize_lemmas(sent, pat=r\"(?u)\\b\\w\\w+\\b\", morph=MorphAnalyzer()):\n",
        "    return [morph.parse(tok)[0].normal_form\n",
        "            for tok in regexp_tokenize(sent, pat)]"
      ]
    },
    {
      "cell_type": "code",
      "execution_count": 15,
      "metadata": {
        "scrolled": true,
        "id": "tZDi1eFlaK69",
        "colab": {
          "base_uri": "https://localhost:8080/",
          "height": 206
        },
        "outputId": "bf577a8c-e995-474b-f7b1-6ebdbaf4e07e"
      },
      "outputs": [
        {
          "output_type": "execute_result",
          "data": {
            "text/plain": [
              "                                          text_ready\n",
              "0                                                nan\n",
              "1  серебряный шпор раздумия глядеть ты скакун ско...\n",
              "2  пилигрим аллах среди пустынь застывший волна в...\n",
              "3  скрывать плакать любить заслужить твой слеза в...\n",
              "4  знать дикий край знойный луч роща луг поблёкну..."
            ],
            "text/html": [
              "\n",
              "  <div id=\"df-8bdb1f2d-b859-4c73-a135-d75827116e1e\" class=\"colab-df-container\">\n",
              "    <div>\n",
              "<style scoped>\n",
              "    .dataframe tbody tr th:only-of-type {\n",
              "        vertical-align: middle;\n",
              "    }\n",
              "\n",
              "    .dataframe tbody tr th {\n",
              "        vertical-align: top;\n",
              "    }\n",
              "\n",
              "    .dataframe thead th {\n",
              "        text-align: right;\n",
              "    }\n",
              "</style>\n",
              "<table border=\"1\" class=\"dataframe\">\n",
              "  <thead>\n",
              "    <tr style=\"text-align: right;\">\n",
              "      <th></th>\n",
              "      <th>text_ready</th>\n",
              "    </tr>\n",
              "  </thead>\n",
              "  <tbody>\n",
              "    <tr>\n",
              "      <th>0</th>\n",
              "      <td>nan</td>\n",
              "    </tr>\n",
              "    <tr>\n",
              "      <th>1</th>\n",
              "      <td>серебряный шпор раздумия глядеть ты скакун ско...</td>\n",
              "    </tr>\n",
              "    <tr>\n",
              "      <th>2</th>\n",
              "      <td>пилигрим аллах среди пустынь застывший волна в...</td>\n",
              "    </tr>\n",
              "    <tr>\n",
              "      <th>3</th>\n",
              "      <td>скрывать плакать любить заслужить твой слеза в...</td>\n",
              "    </tr>\n",
              "    <tr>\n",
              "      <th>4</th>\n",
              "      <td>знать дикий край знойный луч роща луг поблёкну...</td>\n",
              "    </tr>\n",
              "  </tbody>\n",
              "</table>\n",
              "</div>\n",
              "    <div class=\"colab-df-buttons\">\n",
              "\n",
              "  <div class=\"colab-df-container\">\n",
              "    <button class=\"colab-df-convert\" onclick=\"convertToInteractive('df-8bdb1f2d-b859-4c73-a135-d75827116e1e')\"\n",
              "            title=\"Convert this dataframe to an interactive table.\"\n",
              "            style=\"display:none;\">\n",
              "\n",
              "  <svg xmlns=\"http://www.w3.org/2000/svg\" height=\"24px\" viewBox=\"0 -960 960 960\">\n",
              "    <path d=\"M120-120v-720h720v720H120Zm60-500h600v-160H180v160Zm220 220h160v-160H400v160Zm0 220h160v-160H400v160ZM180-400h160v-160H180v160Zm440 0h160v-160H620v160ZM180-180h160v-160H180v160Zm440 0h160v-160H620v160Z\"/>\n",
              "  </svg>\n",
              "    </button>\n",
              "\n",
              "  <style>\n",
              "    .colab-df-container {\n",
              "      display:flex;\n",
              "      gap: 12px;\n",
              "    }\n",
              "\n",
              "    .colab-df-convert {\n",
              "      background-color: #E8F0FE;\n",
              "      border: none;\n",
              "      border-radius: 50%;\n",
              "      cursor: pointer;\n",
              "      display: none;\n",
              "      fill: #1967D2;\n",
              "      height: 32px;\n",
              "      padding: 0 0 0 0;\n",
              "      width: 32px;\n",
              "    }\n",
              "\n",
              "    .colab-df-convert:hover {\n",
              "      background-color: #E2EBFA;\n",
              "      box-shadow: 0px 1px 2px rgba(60, 64, 67, 0.3), 0px 1px 3px 1px rgba(60, 64, 67, 0.15);\n",
              "      fill: #174EA6;\n",
              "    }\n",
              "\n",
              "    .colab-df-buttons div {\n",
              "      margin-bottom: 4px;\n",
              "    }\n",
              "\n",
              "    [theme=dark] .colab-df-convert {\n",
              "      background-color: #3B4455;\n",
              "      fill: #D2E3FC;\n",
              "    }\n",
              "\n",
              "    [theme=dark] .colab-df-convert:hover {\n",
              "      background-color: #434B5C;\n",
              "      box-shadow: 0px 1px 3px 1px rgba(0, 0, 0, 0.15);\n",
              "      filter: drop-shadow(0px 1px 2px rgba(0, 0, 0, 0.3));\n",
              "      fill: #FFFFFF;\n",
              "    }\n",
              "  </style>\n",
              "\n",
              "    <script>\n",
              "      const buttonEl =\n",
              "        document.querySelector('#df-8bdb1f2d-b859-4c73-a135-d75827116e1e button.colab-df-convert');\n",
              "      buttonEl.style.display =\n",
              "        google.colab.kernel.accessAllowed ? 'block' : 'none';\n",
              "\n",
              "      async function convertToInteractive(key) {\n",
              "        const element = document.querySelector('#df-8bdb1f2d-b859-4c73-a135-d75827116e1e');\n",
              "        const dataTable =\n",
              "          await google.colab.kernel.invokeFunction('convertToInteractive',\n",
              "                                                    [key], {});\n",
              "        if (!dataTable) return;\n",
              "\n",
              "        const docLinkHtml = 'Like what you see? Visit the ' +\n",
              "          '<a target=\"_blank\" href=https://colab.research.google.com/notebooks/data_table.ipynb>data table notebook</a>'\n",
              "          + ' to learn more about interactive tables.';\n",
              "        element.innerHTML = '';\n",
              "        dataTable['output_type'] = 'display_data';\n",
              "        await google.colab.output.renderOutput(dataTable, element);\n",
              "        const docLink = document.createElement('div');\n",
              "        docLink.innerHTML = docLinkHtml;\n",
              "        element.appendChild(docLink);\n",
              "      }\n",
              "    </script>\n",
              "  </div>\n",
              "\n",
              "\n",
              "<div id=\"df-da97093e-4a37-4605-a39f-3e0e8e00cf72\">\n",
              "  <button class=\"colab-df-quickchart\" onclick=\"quickchart('df-da97093e-4a37-4605-a39f-3e0e8e00cf72')\"\n",
              "            title=\"Suggest charts\"\n",
              "            style=\"display:none;\">\n",
              "\n",
              "<svg xmlns=\"http://www.w3.org/2000/svg\" height=\"24px\"viewBox=\"0 0 24 24\"\n",
              "     width=\"24px\">\n",
              "    <g>\n",
              "        <path d=\"M19 3H5c-1.1 0-2 .9-2 2v14c0 1.1.9 2 2 2h14c1.1 0 2-.9 2-2V5c0-1.1-.9-2-2-2zM9 17H7v-7h2v7zm4 0h-2V7h2v10zm4 0h-2v-4h2v4z\"/>\n",
              "    </g>\n",
              "</svg>\n",
              "  </button>\n",
              "\n",
              "<style>\n",
              "  .colab-df-quickchart {\n",
              "      --bg-color: #E8F0FE;\n",
              "      --fill-color: #1967D2;\n",
              "      --hover-bg-color: #E2EBFA;\n",
              "      --hover-fill-color: #174EA6;\n",
              "      --disabled-fill-color: #AAA;\n",
              "      --disabled-bg-color: #DDD;\n",
              "  }\n",
              "\n",
              "  [theme=dark] .colab-df-quickchart {\n",
              "      --bg-color: #3B4455;\n",
              "      --fill-color: #D2E3FC;\n",
              "      --hover-bg-color: #434B5C;\n",
              "      --hover-fill-color: #FFFFFF;\n",
              "      --disabled-bg-color: #3B4455;\n",
              "      --disabled-fill-color: #666;\n",
              "  }\n",
              "\n",
              "  .colab-df-quickchart {\n",
              "    background-color: var(--bg-color);\n",
              "    border: none;\n",
              "    border-radius: 50%;\n",
              "    cursor: pointer;\n",
              "    display: none;\n",
              "    fill: var(--fill-color);\n",
              "    height: 32px;\n",
              "    padding: 0;\n",
              "    width: 32px;\n",
              "  }\n",
              "\n",
              "  .colab-df-quickchart:hover {\n",
              "    background-color: var(--hover-bg-color);\n",
              "    box-shadow: 0 1px 2px rgba(60, 64, 67, 0.3), 0 1px 3px 1px rgba(60, 64, 67, 0.15);\n",
              "    fill: var(--button-hover-fill-color);\n",
              "  }\n",
              "\n",
              "  .colab-df-quickchart-complete:disabled,\n",
              "  .colab-df-quickchart-complete:disabled:hover {\n",
              "    background-color: var(--disabled-bg-color);\n",
              "    fill: var(--disabled-fill-color);\n",
              "    box-shadow: none;\n",
              "  }\n",
              "\n",
              "  .colab-df-spinner {\n",
              "    border: 2px solid var(--fill-color);\n",
              "    border-color: transparent;\n",
              "    border-bottom-color: var(--fill-color);\n",
              "    animation:\n",
              "      spin 1s steps(1) infinite;\n",
              "  }\n",
              "\n",
              "  @keyframes spin {\n",
              "    0% {\n",
              "      border-color: transparent;\n",
              "      border-bottom-color: var(--fill-color);\n",
              "      border-left-color: var(--fill-color);\n",
              "    }\n",
              "    20% {\n",
              "      border-color: transparent;\n",
              "      border-left-color: var(--fill-color);\n",
              "      border-top-color: var(--fill-color);\n",
              "    }\n",
              "    30% {\n",
              "      border-color: transparent;\n",
              "      border-left-color: var(--fill-color);\n",
              "      border-top-color: var(--fill-color);\n",
              "      border-right-color: var(--fill-color);\n",
              "    }\n",
              "    40% {\n",
              "      border-color: transparent;\n",
              "      border-right-color: var(--fill-color);\n",
              "      border-top-color: var(--fill-color);\n",
              "    }\n",
              "    60% {\n",
              "      border-color: transparent;\n",
              "      border-right-color: var(--fill-color);\n",
              "    }\n",
              "    80% {\n",
              "      border-color: transparent;\n",
              "      border-right-color: var(--fill-color);\n",
              "      border-bottom-color: var(--fill-color);\n",
              "    }\n",
              "    90% {\n",
              "      border-color: transparent;\n",
              "      border-bottom-color: var(--fill-color);\n",
              "    }\n",
              "  }\n",
              "</style>\n",
              "\n",
              "  <script>\n",
              "    async function quickchart(key) {\n",
              "      const quickchartButtonEl =\n",
              "        document.querySelector('#' + key + ' button');\n",
              "      quickchartButtonEl.disabled = true;  // To prevent multiple clicks.\n",
              "      quickchartButtonEl.classList.add('colab-df-spinner');\n",
              "      try {\n",
              "        const charts = await google.colab.kernel.invokeFunction(\n",
              "            'suggestCharts', [key], {});\n",
              "      } catch (error) {\n",
              "        console.error('Error during call to suggestCharts:', error);\n",
              "      }\n",
              "      quickchartButtonEl.classList.remove('colab-df-spinner');\n",
              "      quickchartButtonEl.classList.add('colab-df-quickchart-complete');\n",
              "    }\n",
              "    (() => {\n",
              "      let quickchartButtonEl =\n",
              "        document.querySelector('#df-da97093e-4a37-4605-a39f-3e0e8e00cf72 button');\n",
              "      quickchartButtonEl.style.display =\n",
              "        google.colab.kernel.accessAllowed ? 'block' : 'none';\n",
              "    })();\n",
              "  </script>\n",
              "</div>\n",
              "    </div>\n",
              "  </div>\n"
            ],
            "application/vnd.google.colaboratory.intrinsic+json": {
              "type": "dataframe",
              "summary": "{\n  \"name\": \"df[['text_ready']]\",\n  \"rows\": 5,\n  \"fields\": [\n    {\n      \"column\": \"text_ready\",\n      \"properties\": {\n        \"dtype\": \"string\",\n        \"num_unique_values\": 5,\n        \"samples\": [\n          \"\\u0441\\u0435\\u0440\\u0435\\u0431\\u0440\\u044f\\u043d\\u044b\\u0439 \\u0448\\u043f\\u043e\\u0440 \\u0440\\u0430\\u0437\\u0434\\u0443\\u043c\\u0438\\u044f \\u0433\\u043b\\u044f\\u0434\\u0435\\u0442\\u044c \\u0442\\u044b \\u0441\\u043a\\u0430\\u043a\\u0443\\u043d \\u0441\\u043a\\u043e\\u0440\\u044b\\u0439 \\u0431\\u043e\\u043a \\u0434\\u0440\\u043e\\u0436\\u0430\\u0442\\u044c \\u043f\\u0440\\u0435\\u0434\\u043e\\u043a \\u0437\\u043d\\u0430\\u0442\\u044c \\u0433\\u0430\\u0440\\u0446\\u0435\\u0432\\u0430\\u0442\\u044c \\u0441\\u0440\\u0435\\u0434\\u044c \\u0441\\u0442\\u0435\\u043f\\u044c \\u0442\\u043e\\u043b\\u0441\\u0442\\u043e\\u0439 \\u043f\\u043b\\u0451\\u0442\\u043a\\u0430 \\u043f\\u043e\\u0433\\u043e\\u043d\\u044f\\u0442\\u044c \\u043d\\u0435\\u0434\\u043e\\u0435\\u0437\\u0436\\u0430\\u043d\\u044b\\u0439 \\u043a\\u043e\\u043d\\u044c \\u0443\\u0441\\u043f\\u0435\\u0445 \\u043f\\u0440\\u043e\\u0441\\u0432\\u0435\\u0449\\u0435\\u043d\\u0438\\u0435 \\u0432\\u043c\\u0435\\u0441\\u0442\\u043e \\u0433\\u0440\\u0443\\u0431\\u044b\\u0439 \\u0441\\u0442\\u0430\\u0440\\u0438\\u043d\\u0430 \\u0432\\u0432\\u0435\\u0441\\u0442\\u0438 \\u0438\\u0437\\u043e\\u0431\\u0440\\u0435\\u0442\\u0435\\u043d\\u0438\\u0435 \\u0447\\u0443\\u0436\\u0435\\u0437\\u0435\\u043c\\u043d\\u044b\\u0439 \\u0441\\u0442\\u043e\\u0440\\u043e\\u043d\\u0430 \\u043a\\u043e\\u0440\\u043c\\u0438\\u0442\\u044c \\u0445\\u043e\\u043b\\u0438\\u0442\\u044c \\u0431\\u0435\\u0440\\u0435\\u0447\\u044c \\u0441\\u043f\\u0438\\u043d\\u043d\\u043e\\u0439 \\u0447\\u0435\\u0441\\u0442\\u044c \\u043f\\u0440\\u0435\\u0436\\u0434\\u0435 \\u0431\\u0438\\u0442\\u044c \\u043d\\u044b\\u043d\\u0447\\u0435 \\u043a\\u043e\\u043b\\u043e\\u0442\\u044c \\u0432\\u044b\\u0433\\u043e\\u0434\\u043d\\u044b\\u0439 \\u0431\\u043e\\u0433 \\u0432\\u0435\\u0434\\u0430\\u0442\\u044c\",\n          \"\\u0437\\u043d\\u0430\\u0442\\u044c \\u0434\\u0438\\u043a\\u0438\\u0439 \\u043a\\u0440\\u0430\\u0439 \\u0437\\u043d\\u043e\\u0439\\u043d\\u044b\\u0439 \\u043b\\u0443\\u0447 \\u0440\\u043e\\u0449\\u0430 \\u043b\\u0443\\u0433 \\u043f\\u043e\\u0431\\u043b\\u0451\\u043a\\u043d\\u0443\\u0442\\u044c \\u0446\\u0432\\u0435\\u0441\\u0442\\u0438 \\u0445\\u0438\\u0442\\u0440\\u043e\\u0441\\u0442\\u044c \\u0431\\u0435\\u0441\\u043f\\u0435\\u0447\\u043d\\u043e\\u0441\\u0442\\u044c \\u0437\\u043b\\u043e\\u0431\\u0430 \\u0434\\u0430\\u043d\\u044c \\u043d\\u0435\\u0441\\u0442\\u0438 \\u0441\\u0435\\u0440\\u0434\\u0446\\u0435 \\u0436\\u0438\\u0442\\u0435\\u043b\\u044c \\u0432\\u043e\\u043b\\u043d\\u043e\\u0432\\u0430\\u0442\\u044c \\u0441\\u0442\\u0440\\u0430\\u0441\\u0442\\u044c \\u044f\\u0432\\u043b\\u044f\\u0442\\u044c\\u0441\\u044f \\u043f\\u043e\\u0440\\u043e\\u0439 \\u0443\\u043c \\u0445\\u043b\\u0430\\u0434\\u043d\\u044b\\u0439 \\u0442\\u0432\\u0451\\u0440\\u0434\\u044b\\u0439 \\u043a\\u0430\\u043c\\u0435\\u043d\\u044c \\u043c\\u043e\\u0449\\u044c \\u0434\\u0430\\u0432\\u0438\\u0442\\u044c\\u0441\\u044f \\u0431\\u0435\\u0437\\u0432\\u0440\\u0435\\u043c\\u0435\\u043d\\u043d\\u044b\\u0439 \\u0442\\u043e\\u0441\\u043a\\u0430 \\u0433\\u0430\\u0441\\u043d\\u0443\\u0442\\u044c \\u0434\\u043e\\u0431\\u0440\\u043e \\u0441\\u043f\\u043e\\u043a\\u043e\\u0439\\u043d\\u044b\\u0439 \\u043f\\u043b\\u0430\\u043c\\u0435\\u043d\\u044c \\u0442\\u044f\\u0436\\u043a\\u0438\\u0439 \\u0447\\u0435\\u043b\\u043e\\u0432\\u0435\\u043a \\u0443\\u0442\\u0435\\u0445\\u0430 \\u043d\\u0435\\u0441\\u0442\\u0438\\u0441\\u044c \\u0443\\u043a\\u043e\\u0440\\u0438\\u0437\\u043d\\u0430 \\u0441\\u0442\\u043e\\u043d\\u0430\\u0442\\u044c \\u0440\\u0430\\u0431\\u0441\\u0442\\u0432\\u043e \\u0446\\u0435\\u043f\\u044c \\u0434\\u0440\\u0443\\u0433 \\u043a\\u0440\\u0430\\u0439 \\u043e\\u0442\\u0447\\u0438\\u0437\\u043d\\u0430 \\u0430\\u0445 \\u043f\\u043e\\u043d\\u044f\\u0442\\u044c \\u043f\\u0440\\u043e\\u0441\\u0442\\u0438\\u0442\\u044c \\u0441\\u0432\\u043e\\u0431\\u043e\\u0434\\u043d\\u044b\\u0439 \\u043d\\u0430\\u043c\\u0451\\u043a \\u043f\\u0443\\u0441\\u0442\\u044c \\u0438\\u0441\\u0442\\u0438\\u043d\\u0430 \\u0441\\u043a\\u0440\\u044b\\u0432\\u0430\\u0442\\u044c \\u043b\\u043e\\u0436\\u044c \\u0434\\u0435\\u043b\\u0430\\u0442\\u044c \\u0447\\u0435\\u043b\\u043e\\u0432\\u0435\\u043a\",\n          \"\\u043f\\u0438\\u043b\\u0438\\u0433\\u0440\\u0438\\u043c \\u0430\\u043b\\u043b\\u0430\\u0445 \\u0441\\u0440\\u0435\\u0434\\u0438 \\u043f\\u0443\\u0441\\u0442\\u044b\\u043d\\u044c \\u0437\\u0430\\u0441\\u0442\\u044b\\u0432\\u0448\\u0438\\u0439 \\u0432\\u043e\\u043b\\u043d\\u0430 \\u0432\\u043e\\u0437\\u0434\\u0432\\u0438\\u0433\\u043d\\u0443\\u0442\\u044c \\u0442\\u0432\\u0435\\u0440\\u0434\\u044b\\u043d\\u044f \\u043f\\u0440\\u0438\\u0442\\u043e\\u043d \\u0430\\u043d\\u0433\\u0435\\u043b \\u0441\\u0432\\u043e\\u0439 \\u0438\\u043b\\u044c \\u0434\\u0438\\u0432 \\u0441\\u043b\\u043e\\u0432\\u043e \\u0440\\u043e\\u043a\\u043e\\u0432\\u043e\\u0439 \\u0441\\u0442\\u0435\\u043d\\u0430 \\u0443\\u043c\\u0435\\u0442\\u044c \\u0432\\u044b\\u0441\\u043e\\u043a\\u043e \\u0433\\u0440\\u043e\\u043c\\u0430\\u0434\\u0430 \\u0441\\u043a\\u0430\\u043b\\u0430 \\u043d\\u0430\\u0433\\u0440\\u043e\\u043c\\u043e\\u0437\\u0434\\u0438\\u0442\\u044c \\u0441\\u0435\\u0432\\u0435\\u0440 \\u0437\\u0430\\u0433\\u0440\\u0430\\u0434\\u0438\\u0442\\u044c \\u0437\\u0432\\u0435\\u0437\\u0434\\u0430 \\u043a\\u043e\\u0447\\u0435\\u0432\\u0430\\u0442\\u044c \\u0432\\u043e\\u0441\\u0442\\u043e\\u043a \\u043d\\u0435\\u0431\\u043e \\u043e\\u0437\\u0430\\u0440\\u0438\\u0442\\u044c \\u043f\\u043e\\u0436\\u0430\\u0440 \\u0446\\u0430\\u0440\\u0435\\u0433\\u0440\\u0430\\u0434 \\u0438\\u043b\\u044c \\u0431\\u043e\\u0433 \\u043a \\u0441\\u0432\\u043e\\u0434 \\u043f\\u0440\\u0438\\u0433\\u0432\\u043e\\u0437\\u0434\\u0438\\u0442\\u044c \\u0442\\u044b \\u043f\\u043e\\u043b\\u043d\\u043e\\u0447\\u043d\\u044b\\u0439 \\u043b\\u0430\\u043c\\u043f\\u0430\\u0434\\u0430 \\u043c\\u0430\\u044f\\u043a \\u0441\\u043f\\u0430\\u0441\\u0438\\u0442\\u0435\\u043b\\u044c\\u043d\\u044b\\u0439 \\u043e\\u0442\\u0440\\u0430\\u0434\\u0430 \\u043f\\u043b\\u044b\\u0442\\u044c \\u043c\\u043e\\u0440\\u0435 \\u0441\\u0432\\u0435\\u0442\\u0438\\u0442\\u044c \\u043c\\u0438\\u0440\\u0437\\u0430 \\u0442\\u0430\\u043c \\u0434\\u0435\\u043d\\u044c \\u0441\\u043e\\u0437\\u0434\\u0430\\u043d\\u0438\\u0435 \\u0431\\u0443\\u0448\\u0435\\u0432\\u0430\\u0442\\u044c \\u0432\\u0435\\u0447\\u043d\\u044b\\u0439 \\u043c\\u0435\\u0442\\u0435\\u043b\\u044c \\u043f\\u043e\\u0442\\u043e\\u043a \\u043a\\u043e\\u043b\\u044b\\u0431\\u0435\\u043b\\u044c \\u0434\\u043e\\u0445\\u043d\\u0443\\u0442\\u044c \\u043c\\u0451\\u0440\\u0437\\u043d\\u0443\\u0442\\u044c \\u043f\\u0430\\u0440\\u0430 \\u0434\\u044b\\u0445\\u0430\\u043d\\u0438\\u0435 \\u043f\\u0440\\u043e\\u043b\\u043e\\u0436\\u0438\\u0442\\u044c \\u0441\\u043c\\u0435\\u043b\\u044b\\u0439 \\u0441\\u043b\\u0435\\u0434 \\u043e\\u0440\\u043b\\u043e\\u0432 \\u0434\\u043e\\u0440\\u043e\\u0433\\u0430 \\u043d\\u0435\\u0442 \\u0434\\u0440\\u0435\\u043c\\u0430\\u0442\\u044c \\u0433\\u0440\\u043e\\u043c \\u0433\\u043b\\u0443\\u0431\\u0438\\u043d\\u0430 \\u0442\\u0430\\u043c \\u043c\\u043e\\u0439 \\u0447\\u0430\\u043b\\u043c\\u0430 \\u043e\\u0434\\u0438\\u043d \\u0441\\u0432\\u0435\\u0440\\u043a\\u0430\\u0442\\u044c \\u0437\\u0432\\u0435\\u0437\\u0434\\u0430 \\u0447\\u0430\\u0442\\u044b\\u0440\\u0434\\u0430\\u0433 \\u0431\\u044b\\u0442\\u044c \\u043f\\u0438\\u043b\\u0438\\u0433\\u0440\\u0438\\u043c\"\n        ],\n        \"semantic_type\": \"\",\n        \"description\": \"\"\n      }\n    }\n  ]\n}"
            }
          },
          "metadata": {},
          "execution_count": 15
        }
      ],
      "source": [
        "df['text_ready']  = df['text'].str.lower()\n",
        "df['text_ready'] = df['text_ready'].str.replace('\\d+', '')\n",
        "df['text_ready'] = df['text_ready'].str.replace('[^\\w\\s]','')\n",
        "df[\"text_ready\"] = df[\"text_ready\"].apply(stopwords)\n",
        "df['text_ready'] = df['text_ready'].apply(emoji)\n",
        "df['text_ready'] = df['text_ready'].apply(remove_urls)\n",
        "df['text_ready'] = df['text_ready'].apply(html) #удаляет теги\n",
        "df[\"text_ready\"] = df[\"text_ready\"].map(lambda x: \" \".join(tokenize_lemmas(x)))\n",
        "df[['text_ready']].head()"
      ]
    },
    {
      "cell_type": "code",
      "execution_count": 16,
      "metadata": {
        "id": "hF6cpt8uaK69"
      },
      "outputs": [],
      "source": [
        "# WORD EMBEDDING: ОБУЧАЕМ МОДЕЛЬ"
      ]
    },
    {
      "cell_type": "code",
      "execution_count": 17,
      "metadata": {
        "id": "jmXjy5ZKaK69"
      },
      "outputs": [],
      "source": [
        "from gensim.models import Word2Vec\n",
        "from gensim.models.word2vec import LineSentence"
      ]
    },
    {
      "cell_type": "code",
      "execution_count": 18,
      "metadata": {
        "id": "28_NibakaK6-"
      },
      "outputs": [],
      "source": [
        "#help(Word2Vec)"
      ]
    },
    {
      "cell_type": "code",
      "execution_count": 19,
      "metadata": {
        "id": "glh2ZZcYaK6-"
      },
      "outputs": [],
      "source": [
        "w2v_model = Word2Vec(\n",
        "    min_count=10,\n",
        "    window=2,\n",
        "    vector_size=3000,\n",
        "    negative=5,\n",
        "    alpha=0.03,\n",
        "    min_alpha=0.0007,\n",
        "    sample=6e-5,\n",
        "    sg=1)\n",
        "#min_count — минимальное число вхождений слова\n",
        "#window — расстояние между current и predicted слов\n",
        "#vector_size — размер векторного представления слова (word embedding) — размер матрицы\n",
        "#negative — сколько неконтекстных слов учитывать в обучении, используя negative sampling — число слов\n",
        "#alpha — начальный learning_rate, используемый в алгоритме обратного распространения ошибки (Backpropogation).Задаем угол наклон распределения\n",
        "#min_alpha — минимальное значение learning_rate, на которое может опуститься в процессе обучения.\n",
        "#sg — если 1, то используется реализация Skip-gram; если 0, то CBOW."
      ]
    },
    {
      "cell_type": "code",
      "execution_count": 20,
      "metadata": {
        "id": "uF549s_KaK6-"
      },
      "outputs": [],
      "source": [
        "#Получаем лист слов\n",
        "from nltk.tokenize import sent_tokenize\n",
        "from gensim.utils import simple_preprocess\n",
        "\n",
        "class MySentences(object):\n",
        "    def __init__(self, docs):\n",
        "        self.corpus = docs\n",
        "    def __iter__(self):\n",
        "        for doc in self.corpus:\n",
        "            doc_sentences = sent_tokenize(doc)\n",
        "            for sent in doc_sentences:\n",
        "                yield simple_preprocess(sent) # yields a tokenized"
      ]
    },
    {
      "cell_type": "code",
      "execution_count": 21,
      "metadata": {
        "id": "VYGft7gfaK6_"
      },
      "outputs": [],
      "source": [
        "sentences = MySentences(df['text_ready'].tolist())"
      ]
    },
    {
      "cell_type": "code",
      "execution_count": 22,
      "metadata": {
        "id": "YCC6U5r9aK6_"
      },
      "outputs": [],
      "source": [
        "#Получаем словарь\n",
        "w2v_model.build_vocab(sentences)"
      ]
    },
    {
      "cell_type": "code",
      "execution_count": 23,
      "metadata": {
        "id": "9OkVB73paK6_",
        "colab": {
          "base_uri": "https://localhost:8080/"
        },
        "outputId": "9b871322-f3c9-4371-b935-a1ec44841518"
      },
      "outputs": [
        {
          "output_type": "execute_result",
          "data": {
            "text/plain": [
              "(9077792, 14053380)"
            ]
          },
          "metadata": {},
          "execution_count": 23
        }
      ],
      "source": [
        "#Обучение\n",
        "w2v_model.train(sentences, total_examples=w2v_model.corpus_count, epochs=6, report_delay=1)"
      ]
    },
    {
      "cell_type": "code",
      "execution_count": 24,
      "metadata": {
        "id": "9S5YGbpFaK7A",
        "colab": {
          "base_uri": "https://localhost:8080/"
        },
        "outputId": "04f67c9f-9779-484f-fa97-91e6c6db77ae"
      },
      "outputs": [
        {
          "output_type": "stream",
          "name": "stderr",
          "text": [
            "<ipython-input-24-ccdb4c4f0af4>:2: DeprecationWarning: Call to deprecated `init_sims` (Gensim 4.0.0 implemented internal optimizations that make calls to init_sims() unnecessary. init_sims() is now obsoleted and will be completely removed in future versions. See https://github.com/RaRe-Technologies/gensim/wiki/Migrating-from-Gensim-3.x-to-4).\n",
            "  w2v_model.init_sims(replace=True)\n",
            "WARNING:gensim.models.keyedvectors:destructive init_sims(replace=True) deprecated & no longer required for space-efficiency\n"
          ]
        }
      ],
      "source": [
        "#для сохранения оперативной памяти можно написать следующее\n",
        "w2v_model.init_sims(replace=True)"
      ]
    },
    {
      "cell_type": "code",
      "execution_count": 59,
      "metadata": {
        "id": "YDRH5MaCaK7A"
      },
      "outputs": [],
      "source": [
        "# TF-IDF (КЛЮЧЕВЫЕ СЛОВА)"
      ]
    },
    {
      "cell_type": "code",
      "execution_count": 25,
      "metadata": {
        "id": "CNx8519faK7A"
      },
      "outputs": [],
      "source": [
        "from sklearn.feature_extraction.text import TfidfVectorizer"
      ]
    },
    {
      "cell_type": "code",
      "execution_count": 26,
      "metadata": {
        "id": "XfiP78liaK7A"
      },
      "outputs": [],
      "source": [
        "tfidf_vectorizer=TfidfVectorizer(use_idf=True) #rk.xtdst ckjdf"
      ]
    },
    {
      "cell_type": "code",
      "execution_count": 27,
      "metadata": {
        "id": "p4aY9cqoaK7B",
        "colab": {
          "base_uri": "https://localhost:8080/"
        },
        "outputId": "bb484f37-7b1a-4c95-cadb-ccf4989e4472"
      },
      "outputs": [
        {
          "output_type": "execute_result",
          "data": {
            "text/plain": [
              "0                                                      nan\n",
              "1        серебряный шпор раздумия глядеть ты скакун ско...\n",
              "2        пилигрим аллах среди пустынь застывший волна в...\n",
              "3        скрывать плакать любить заслужить твой слеза в...\n",
              "4        знать дикий край знойный луч роща луг поблёкну...\n",
              "                               ...                        \n",
              "19311    хорошо мир магический ночь мерный скрип высоки...\n",
              "19312    пробочка крепкий иод скоро перетлеть незримо ж...\n",
              "19313    друг друг мочь скоро сон ява нить пустой разго...\n",
              "19314    увы дитя душа неутолённый сниться ль невыразим...\n",
              "19315    изломать одолевать нестерпимый скука утро чей ...\n",
              "Name: text_ready, Length: 19316, dtype: object"
            ]
          },
          "metadata": {},
          "execution_count": 27
        }
      ],
      "source": [
        "texts = df.text_ready\n",
        "texts"
      ]
    },
    {
      "cell_type": "code",
      "execution_count": 28,
      "metadata": {
        "id": "IHCDxSejaK7B"
      },
      "outputs": [],
      "source": [
        "tfidf_vectorizer_vectors=tfidf_vectorizer.fit_transform(texts)"
      ]
    },
    {
      "cell_type": "code",
      "execution_count": 29,
      "metadata": {
        "id": "DLxuI_59aK7B"
      },
      "outputs": [],
      "source": [
        "first_vector_tfidfvectorizer=tfidf_vectorizer_vectors[0]"
      ]
    },
    {
      "cell_type": "code",
      "execution_count": 58,
      "metadata": {
        "id": "Lcdfc9T7aK7C",
        "colab": {
          "base_uri": "https://localhost:8080/",
          "height": 676
        },
        "outputId": "536f8e87-b65c-447f-d4b3-d978f546a766"
      },
      "outputs": [
        {
          "output_type": "execute_result",
          "data": {
            "text/plain": [
              "                 tfidf\n",
              "nan                1.0\n",
              "000                0.0\n",
              "почтовый           0.0\n",
              "почувствоваль      0.0\n",
              "почувствовалъ      0.0\n",
              "почувствовавъ      0.0\n",
              "почтѣніь           0.0\n",
              "почтѣніть          0.0\n",
              "почтѣние           0.0\n",
              "почтѣ              0.0\n",
              "почтутъ            0.0\n",
              "почтожъ            0.0\n",
              "почто              0.0\n",
              "почувствоваться    0.0\n",
              "почтмейстеръ       0.0\n",
              "почтмейстер        0.0\n",
              "почтиться          0.0\n",
              "почтить            0.0\n",
              "почтити            0.0\n",
              "почтительный       0.0"
            ],
            "text/html": [
              "\n",
              "  <div id=\"df-a572d342-7533-42a5-87bc-30bf266e2a8e\" class=\"colab-df-container\">\n",
              "    <div>\n",
              "<style scoped>\n",
              "    .dataframe tbody tr th:only-of-type {\n",
              "        vertical-align: middle;\n",
              "    }\n",
              "\n",
              "    .dataframe tbody tr th {\n",
              "        vertical-align: top;\n",
              "    }\n",
              "\n",
              "    .dataframe thead th {\n",
              "        text-align: right;\n",
              "    }\n",
              "</style>\n",
              "<table border=\"1\" class=\"dataframe\">\n",
              "  <thead>\n",
              "    <tr style=\"text-align: right;\">\n",
              "      <th></th>\n",
              "      <th>tfidf</th>\n",
              "    </tr>\n",
              "  </thead>\n",
              "  <tbody>\n",
              "    <tr>\n",
              "      <th>nan</th>\n",
              "      <td>1.0</td>\n",
              "    </tr>\n",
              "    <tr>\n",
              "      <th>000</th>\n",
              "      <td>0.0</td>\n",
              "    </tr>\n",
              "    <tr>\n",
              "      <th>почтовый</th>\n",
              "      <td>0.0</td>\n",
              "    </tr>\n",
              "    <tr>\n",
              "      <th>почувствоваль</th>\n",
              "      <td>0.0</td>\n",
              "    </tr>\n",
              "    <tr>\n",
              "      <th>почувствовалъ</th>\n",
              "      <td>0.0</td>\n",
              "    </tr>\n",
              "    <tr>\n",
              "      <th>почувствовавъ</th>\n",
              "      <td>0.0</td>\n",
              "    </tr>\n",
              "    <tr>\n",
              "      <th>почтѣніь</th>\n",
              "      <td>0.0</td>\n",
              "    </tr>\n",
              "    <tr>\n",
              "      <th>почтѣніть</th>\n",
              "      <td>0.0</td>\n",
              "    </tr>\n",
              "    <tr>\n",
              "      <th>почтѣние</th>\n",
              "      <td>0.0</td>\n",
              "    </tr>\n",
              "    <tr>\n",
              "      <th>почтѣ</th>\n",
              "      <td>0.0</td>\n",
              "    </tr>\n",
              "    <tr>\n",
              "      <th>почтутъ</th>\n",
              "      <td>0.0</td>\n",
              "    </tr>\n",
              "    <tr>\n",
              "      <th>почтожъ</th>\n",
              "      <td>0.0</td>\n",
              "    </tr>\n",
              "    <tr>\n",
              "      <th>почто</th>\n",
              "      <td>0.0</td>\n",
              "    </tr>\n",
              "    <tr>\n",
              "      <th>почувствоваться</th>\n",
              "      <td>0.0</td>\n",
              "    </tr>\n",
              "    <tr>\n",
              "      <th>почтмейстеръ</th>\n",
              "      <td>0.0</td>\n",
              "    </tr>\n",
              "    <tr>\n",
              "      <th>почтмейстер</th>\n",
              "      <td>0.0</td>\n",
              "    </tr>\n",
              "    <tr>\n",
              "      <th>почтиться</th>\n",
              "      <td>0.0</td>\n",
              "    </tr>\n",
              "    <tr>\n",
              "      <th>почтить</th>\n",
              "      <td>0.0</td>\n",
              "    </tr>\n",
              "    <tr>\n",
              "      <th>почтити</th>\n",
              "      <td>0.0</td>\n",
              "    </tr>\n",
              "    <tr>\n",
              "      <th>почтительный</th>\n",
              "      <td>0.0</td>\n",
              "    </tr>\n",
              "  </tbody>\n",
              "</table>\n",
              "</div>\n",
              "    <div class=\"colab-df-buttons\">\n",
              "\n",
              "  <div class=\"colab-df-container\">\n",
              "    <button class=\"colab-df-convert\" onclick=\"convertToInteractive('df-a572d342-7533-42a5-87bc-30bf266e2a8e')\"\n",
              "            title=\"Convert this dataframe to an interactive table.\"\n",
              "            style=\"display:none;\">\n",
              "\n",
              "  <svg xmlns=\"http://www.w3.org/2000/svg\" height=\"24px\" viewBox=\"0 -960 960 960\">\n",
              "    <path d=\"M120-120v-720h720v720H120Zm60-500h600v-160H180v160Zm220 220h160v-160H400v160Zm0 220h160v-160H400v160ZM180-400h160v-160H180v160Zm440 0h160v-160H620v160ZM180-180h160v-160H180v160Zm440 0h160v-160H620v160Z\"/>\n",
              "  </svg>\n",
              "    </button>\n",
              "\n",
              "  <style>\n",
              "    .colab-df-container {\n",
              "      display:flex;\n",
              "      gap: 12px;\n",
              "    }\n",
              "\n",
              "    .colab-df-convert {\n",
              "      background-color: #E8F0FE;\n",
              "      border: none;\n",
              "      border-radius: 50%;\n",
              "      cursor: pointer;\n",
              "      display: none;\n",
              "      fill: #1967D2;\n",
              "      height: 32px;\n",
              "      padding: 0 0 0 0;\n",
              "      width: 32px;\n",
              "    }\n",
              "\n",
              "    .colab-df-convert:hover {\n",
              "      background-color: #E2EBFA;\n",
              "      box-shadow: 0px 1px 2px rgba(60, 64, 67, 0.3), 0px 1px 3px 1px rgba(60, 64, 67, 0.15);\n",
              "      fill: #174EA6;\n",
              "    }\n",
              "\n",
              "    .colab-df-buttons div {\n",
              "      margin-bottom: 4px;\n",
              "    }\n",
              "\n",
              "    [theme=dark] .colab-df-convert {\n",
              "      background-color: #3B4455;\n",
              "      fill: #D2E3FC;\n",
              "    }\n",
              "\n",
              "    [theme=dark] .colab-df-convert:hover {\n",
              "      background-color: #434B5C;\n",
              "      box-shadow: 0px 1px 3px 1px rgba(0, 0, 0, 0.15);\n",
              "      filter: drop-shadow(0px 1px 2px rgba(0, 0, 0, 0.3));\n",
              "      fill: #FFFFFF;\n",
              "    }\n",
              "  </style>\n",
              "\n",
              "    <script>\n",
              "      const buttonEl =\n",
              "        document.querySelector('#df-a572d342-7533-42a5-87bc-30bf266e2a8e button.colab-df-convert');\n",
              "      buttonEl.style.display =\n",
              "        google.colab.kernel.accessAllowed ? 'block' : 'none';\n",
              "\n",
              "      async function convertToInteractive(key) {\n",
              "        const element = document.querySelector('#df-a572d342-7533-42a5-87bc-30bf266e2a8e');\n",
              "        const dataTable =\n",
              "          await google.colab.kernel.invokeFunction('convertToInteractive',\n",
              "                                                    [key], {});\n",
              "        if (!dataTable) return;\n",
              "\n",
              "        const docLinkHtml = 'Like what you see? Visit the ' +\n",
              "          '<a target=\"_blank\" href=https://colab.research.google.com/notebooks/data_table.ipynb>data table notebook</a>'\n",
              "          + ' to learn more about interactive tables.';\n",
              "        element.innerHTML = '';\n",
              "        dataTable['output_type'] = 'display_data';\n",
              "        await google.colab.output.renderOutput(dataTable, element);\n",
              "        const docLink = document.createElement('div');\n",
              "        docLink.innerHTML = docLinkHtml;\n",
              "        element.appendChild(docLink);\n",
              "      }\n",
              "    </script>\n",
              "  </div>\n",
              "\n",
              "\n",
              "<div id=\"df-e0668536-8c5c-49bf-a51c-69cd6bbcc34c\">\n",
              "  <button class=\"colab-df-quickchart\" onclick=\"quickchart('df-e0668536-8c5c-49bf-a51c-69cd6bbcc34c')\"\n",
              "            title=\"Suggest charts\"\n",
              "            style=\"display:none;\">\n",
              "\n",
              "<svg xmlns=\"http://www.w3.org/2000/svg\" height=\"24px\"viewBox=\"0 0 24 24\"\n",
              "     width=\"24px\">\n",
              "    <g>\n",
              "        <path d=\"M19 3H5c-1.1 0-2 .9-2 2v14c0 1.1.9 2 2 2h14c1.1 0 2-.9 2-2V5c0-1.1-.9-2-2-2zM9 17H7v-7h2v7zm4 0h-2V7h2v10zm4 0h-2v-4h2v4z\"/>\n",
              "    </g>\n",
              "</svg>\n",
              "  </button>\n",
              "\n",
              "<style>\n",
              "  .colab-df-quickchart {\n",
              "      --bg-color: #E8F0FE;\n",
              "      --fill-color: #1967D2;\n",
              "      --hover-bg-color: #E2EBFA;\n",
              "      --hover-fill-color: #174EA6;\n",
              "      --disabled-fill-color: #AAA;\n",
              "      --disabled-bg-color: #DDD;\n",
              "  }\n",
              "\n",
              "  [theme=dark] .colab-df-quickchart {\n",
              "      --bg-color: #3B4455;\n",
              "      --fill-color: #D2E3FC;\n",
              "      --hover-bg-color: #434B5C;\n",
              "      --hover-fill-color: #FFFFFF;\n",
              "      --disabled-bg-color: #3B4455;\n",
              "      --disabled-fill-color: #666;\n",
              "  }\n",
              "\n",
              "  .colab-df-quickchart {\n",
              "    background-color: var(--bg-color);\n",
              "    border: none;\n",
              "    border-radius: 50%;\n",
              "    cursor: pointer;\n",
              "    display: none;\n",
              "    fill: var(--fill-color);\n",
              "    height: 32px;\n",
              "    padding: 0;\n",
              "    width: 32px;\n",
              "  }\n",
              "\n",
              "  .colab-df-quickchart:hover {\n",
              "    background-color: var(--hover-bg-color);\n",
              "    box-shadow: 0 1px 2px rgba(60, 64, 67, 0.3), 0 1px 3px 1px rgba(60, 64, 67, 0.15);\n",
              "    fill: var(--button-hover-fill-color);\n",
              "  }\n",
              "\n",
              "  .colab-df-quickchart-complete:disabled,\n",
              "  .colab-df-quickchart-complete:disabled:hover {\n",
              "    background-color: var(--disabled-bg-color);\n",
              "    fill: var(--disabled-fill-color);\n",
              "    box-shadow: none;\n",
              "  }\n",
              "\n",
              "  .colab-df-spinner {\n",
              "    border: 2px solid var(--fill-color);\n",
              "    border-color: transparent;\n",
              "    border-bottom-color: var(--fill-color);\n",
              "    animation:\n",
              "      spin 1s steps(1) infinite;\n",
              "  }\n",
              "\n",
              "  @keyframes spin {\n",
              "    0% {\n",
              "      border-color: transparent;\n",
              "      border-bottom-color: var(--fill-color);\n",
              "      border-left-color: var(--fill-color);\n",
              "    }\n",
              "    20% {\n",
              "      border-color: transparent;\n",
              "      border-left-color: var(--fill-color);\n",
              "      border-top-color: var(--fill-color);\n",
              "    }\n",
              "    30% {\n",
              "      border-color: transparent;\n",
              "      border-left-color: var(--fill-color);\n",
              "      border-top-color: var(--fill-color);\n",
              "      border-right-color: var(--fill-color);\n",
              "    }\n",
              "    40% {\n",
              "      border-color: transparent;\n",
              "      border-right-color: var(--fill-color);\n",
              "      border-top-color: var(--fill-color);\n",
              "    }\n",
              "    60% {\n",
              "      border-color: transparent;\n",
              "      border-right-color: var(--fill-color);\n",
              "    }\n",
              "    80% {\n",
              "      border-color: transparent;\n",
              "      border-right-color: var(--fill-color);\n",
              "      border-bottom-color: var(--fill-color);\n",
              "    }\n",
              "    90% {\n",
              "      border-color: transparent;\n",
              "      border-bottom-color: var(--fill-color);\n",
              "    }\n",
              "  }\n",
              "</style>\n",
              "\n",
              "  <script>\n",
              "    async function quickchart(key) {\n",
              "      const quickchartButtonEl =\n",
              "        document.querySelector('#' + key + ' button');\n",
              "      quickchartButtonEl.disabled = true;  // To prevent multiple clicks.\n",
              "      quickchartButtonEl.classList.add('colab-df-spinner');\n",
              "      try {\n",
              "        const charts = await google.colab.kernel.invokeFunction(\n",
              "            'suggestCharts', [key], {});\n",
              "      } catch (error) {\n",
              "        console.error('Error during call to suggestCharts:', error);\n",
              "      }\n",
              "      quickchartButtonEl.classList.remove('colab-df-spinner');\n",
              "      quickchartButtonEl.classList.add('colab-df-quickchart-complete');\n",
              "    }\n",
              "    (() => {\n",
              "      let quickchartButtonEl =\n",
              "        document.querySelector('#df-e0668536-8c5c-49bf-a51c-69cd6bbcc34c button');\n",
              "      quickchartButtonEl.style.display =\n",
              "        google.colab.kernel.accessAllowed ? 'block' : 'none';\n",
              "    })();\n",
              "  </script>\n",
              "</div>\n",
              "    </div>\n",
              "  </div>\n"
            ],
            "application/vnd.google.colaboratory.intrinsic+json": {
              "type": "dataframe",
              "summary": "{\n  \"name\": \"df1\",\n  \"rows\": 20,\n  \"fields\": [\n    {\n      \"column\": \"tfidf\",\n      \"properties\": {\n        \"dtype\": \"number\",\n        \"std\": 0.22360679774997894,\n        \"min\": 0.0,\n        \"max\": 1.0,\n        \"num_unique_values\": 2,\n        \"samples\": [\n          0.0,\n          1.0\n        ],\n        \"semantic_type\": \"\",\n        \"description\": \"\"\n      }\n    }\n  ]\n}"
            }
          },
          "metadata": {},
          "execution_count": 58
        }
      ],
      "source": [
        "df1 = pd.DataFrame(first_vector_tfidfvectorizer.T.todense(), index=tfidf_vectorizer.get_feature_names_out(), columns=[\"tfidf\"])\n",
        "df1.sort_values(by=[\"tfidf\"],ascending=False)[:20]"
      ]
    },
    {
      "cell_type": "code",
      "execution_count": 66,
      "metadata": {
        "id": "N9-b7ydGaK7C"
      },
      "outputs": [],
      "source": [
        "# СИНОНИМИЧЕСКАЯ БЛИЗОСТЬ"
      ]
    },
    {
      "cell_type": "code",
      "execution_count": 31,
      "metadata": {
        "id": "Nu97nOYPaK7D",
        "outputId": "be7f6f96-744c-4339-ed3c-c53d26913181",
        "colab": {
          "base_uri": "https://localhost:8080/"
        }
      },
      "outputs": [
        {
          "output_type": "execute_result",
          "data": {
            "text/plain": [
              "[('нежность', 0.9522289633750916),\n",
              " ('воображение', 0.9515024423599243),\n",
              " ('идеал', 0.9424160122871399),\n",
              " ('впечатление', 0.9389333724975586),\n",
              " ('избыток', 0.9380809664726257),\n",
              " ('выразить', 0.9345113635063171),\n",
              " ('вымысел', 0.9319538474082947),\n",
              " ('предаваться', 0.9268723726272583),\n",
              " ('полнота', 0.9215254187583923),\n",
              " ('стыдливость', 0.920731782913208)]"
            ]
          },
          "metadata": {},
          "execution_count": 31
        }
      ],
      "source": [
        "w2v_model.wv.most_similar(positive=[\"чувство\"], topn=10)"
      ]
    },
    {
      "cell_type": "code",
      "execution_count": 32,
      "metadata": {
        "id": "Pk6eiWW2aK7D",
        "outputId": "eae6b8ad-3317-4e12-b7ed-55a283e0886c",
        "colab": {
          "base_uri": "https://localhost:8080/"
        }
      },
      "outputs": [
        {
          "output_type": "execute_result",
          "data": {
            "text/plain": [
              "[('посетить', 0.9463896155357361),\n",
              " ('вечно', 0.9373562335968018),\n",
              " ('чужбина', 0.9347748160362244),\n",
              " ('схоронить', 0.933316707611084),\n",
              " ('спутник', 0.9224676489830017),\n",
              " ('колыбель', 0.9222846031188965),\n",
              " ('пилигрим', 0.9207615852355957),\n",
              " ('стареть', 0.9180677533149719),\n",
              " ('чужой', 0.9154236316680908),\n",
              " ('покинутый', 0.9141619205474854)]"
            ]
          },
          "metadata": {},
          "execution_count": 32
        }
      ],
      "source": [
        "w2v_model.wv.most_similar(positive=[\"друг\", \"край\", \"мир\", \"дитя\"], topn=10)"
      ]
    },
    {
      "cell_type": "code",
      "execution_count": 33,
      "metadata": {
        "id": "akbT2qGRaK7O",
        "outputId": "3e11f500-a9df-4651-ead9-ba06c83b4e9f",
        "colab": {
          "base_uri": "https://localhost:8080/"
        }
      },
      "outputs": [
        {
          "output_type": "execute_result",
          "data": {
            "text/plain": [
              "[('счастливый', 0.8130817413330078),\n",
              " ('принести', 0.7957846522331238),\n",
              " ('родный', 0.7936588525772095),\n",
              " ('брат', 0.780839204788208),\n",
              " ('сестра', 0.7782480120658875),\n",
              " ('невеста', 0.773097038269043),\n",
              " ('дорогой', 0.7705144882202148),\n",
              " ('жених', 0.7697714567184448),\n",
              " ('дождаться', 0.7601379156112671),\n",
              " ('любимый', 0.7589431405067444)]"
            ]
          },
          "metadata": {},
          "execution_count": 33
        }
      ],
      "source": [
        "#Векторы можно складывать и вычитать. Например, рассмотрим такой вариант: “товар” + “продавец” — “ужасный”:\n",
        "w2v_model.wv.most_similar(positive=[\"друг\", \"край\"], negative=[\"дикий\"], topn=10) #в кважратной скобке лист"
      ]
    },
    {
      "cell_type": "code",
      "execution_count": 34,
      "metadata": {
        "id": "yvnNiNc-aK7P",
        "outputId": "89c3621a-b16a-4fc8-b6db-efb8893ffeda",
        "colab": {
          "base_uri": "https://localhost:8080/",
          "height": 36
        }
      },
      "outputs": [
        {
          "output_type": "execute_result",
          "data": {
            "text/plain": [
              "'скука'"
            ],
            "application/vnd.google.colaboratory.intrinsic+json": {
              "type": "string"
            }
          },
          "metadata": {},
          "execution_count": 34
        }
      ],
      "source": [
        "#определить наиболее близкое слово из списка к данному слово\n",
        "w2v_model.wv.most_similar_to_given(\"дитя\", [\"мир\", \"скука\"])"
      ]
    },
    {
      "cell_type": "code",
      "execution_count": 35,
      "metadata": {
        "id": "Y5Q5mSsIaK7P"
      },
      "outputs": [],
      "source": [
        "import matplotlib.pyplot as plt\n",
        "import seaborn as sns\n",
        "from sklearn.manifold import TSNE\n",
        "\n",
        "def tsne_scatterplot(model, word, list_names):\n",
        "    \"\"\"Plot in seaborn the results from the t-SNE dimensionality reduction\n",
        "    algorithm of the vectors of a query word,\n",
        "    its list of most similar words, and a list of words.\"\"\"\n",
        "    vectors_words = [model.wv.word_vec(word)]\n",
        "    word_labels = [word]\n",
        "    color_list = ['red']\n",
        "\n",
        "    close_words = model.wv.most_similar(word)\n",
        "    for wrd_score in close_words:\n",
        "        wrd_vector = model.wv.word_vec(wrd_score[0])\n",
        "        vectors_words.append(wrd_vector)\n",
        "        word_labels.append(wrd_score[0])\n",
        "        color_list.append('blue')\n",
        "\n",
        "    # adds the vector for each of the words from list_names to the array\n",
        "    for wrd in list_names:\n",
        "        wrd_vector = model.wv.word_vec(wrd)\n",
        "        vectors_words.append(wrd_vector)\n",
        "        word_labels.append(wrd)\n",
        "        color_list.append('green')\n",
        "\n",
        "    # t-SNE reduction\n",
        "    Y = (TSNE(n_components=2, random_state=0, perplexity=15, init=\"pca\")\n",
        "        .fit_transform(vectors_words))\n",
        "    # Sets everything up to plot\n",
        "    df = pd.DataFrame({\"x\": [x for x in Y[:, 0]],\n",
        "                    \"y\": [y for y in Y[:, 1]],\n",
        "                    \"words\": word_labels,\n",
        "                    \"color\": color_list})\n",
        "    fig, _ = plt.subplots()\n",
        "    fig.set_size_inches(9, 9)\n",
        "    # Basic plot\n",
        "    p1 = sns.regplot(data=df,\n",
        "                    x=\"x\",\n",
        "                    y=\"y\",\n",
        "                    fit_reg=False,\n",
        "                    marker=\"o\",\n",
        "                    scatter_kws={\"s\": 40,\n",
        "                                \"facecolors\": df[\"color\"]}\n",
        "    )\n",
        "    # Adds annotations one by one with a loop\n",
        "    for line in range(0, df.shape[0]):\n",
        "        p1.text(df[\"x\"][line],\n",
        "                df[\"y\"][line],\n",
        "                \" \" + df[\"words\"][line].title(),\n",
        "                horizontalalignment=\"left\",\n",
        "                verticalalignment=\"bottom\", size=\"medium\",\n",
        "                color=df[\"color\"][line],\n",
        "                weight=\"normal\"\n",
        "        ).set_size(15)\n",
        "\n",
        "    plt.xlim(Y[:, 0].min()-50, Y[:, 0].max()+50)\n",
        "    plt.ylim(Y[:, 1].min()-50, Y[:, 1].max()+50)\n",
        "    plt.title('t-SNE visualization for {}'.format(word.title()))"
      ]
    },
    {
      "cell_type": "code",
      "execution_count": 36,
      "metadata": {
        "id": "3vD6xMdZaK7Q"
      },
      "outputs": [],
      "source": [
        "from gensim.test.utils import common_texts\n",
        "from gensim.models import Word2Vec\n",
        "\n",
        "model = Word2Vec(sentences=common_texts, vector_size=100, window=5, min_count=1, workers=4)\n",
        "model.save(\"drugs\")"
      ]
    },
    {
      "cell_type": "code",
      "execution_count": 37,
      "metadata": {
        "id": "rZwgcw7XaK7R"
      },
      "outputs": [],
      "source": [
        "df['text_ready'].to_csv (r'text_ready.csv', index=False, encoding=\"UTF-8\")"
      ]
    },
    {
      "cell_type": "code",
      "execution_count": 38,
      "metadata": {
        "id": "OQj4yfG0aK7R"
      },
      "outputs": [],
      "source": [
        "df['poem'].to_csv (r'text.csv', index=False, encoding=\"UTF-8\")"
      ]
    },
    {
      "cell_type": "code",
      "execution_count": null,
      "metadata": {
        "id": "ghJUxG5PaK7S"
      },
      "outputs": [],
      "source": [
        "# LDA"
      ]
    },
    {
      "cell_type": "code",
      "execution_count": 39,
      "metadata": {
        "id": "POoGAXyOaK7S"
      },
      "outputs": [],
      "source": [
        "# packages to store and manipulate data\n",
        "import numpy as np\n",
        "import pandas as pd\n",
        "# model building package\n",
        "import sklearn"
      ]
    },
    {
      "cell_type": "code",
      "execution_count": 40,
      "metadata": {
        "id": "ITAGayAWaK7S"
      },
      "outputs": [],
      "source": [
        "from sklearn.feature_extraction.text import CountVectorizer"
      ]
    },
    {
      "cell_type": "code",
      "execution_count": 41,
      "metadata": {
        "id": "Zpk8h0ygaK7T"
      },
      "outputs": [],
      "source": [
        "from sklearn.feature_extraction.text import CountVectorizer\n",
        "cv = CountVectorizer(max_df=0.95, min_df=2)"
      ]
    },
    {
      "cell_type": "code",
      "execution_count": 42,
      "metadata": {
        "id": "Hw0JtqwQaK7T"
      },
      "outputs": [],
      "source": [
        "dtm = cv.fit_transform(df['text_ready'])"
      ]
    },
    {
      "cell_type": "code",
      "execution_count": 43,
      "metadata": {
        "id": "OXMzctQSaK7T"
      },
      "outputs": [],
      "source": [
        "from sklearn.decomposition import LatentDirichletAllocation\n",
        "LDA = LatentDirichletAllocation(n_components=7,random_state=42)"
      ]
    },
    {
      "cell_type": "code",
      "execution_count": 44,
      "metadata": {
        "id": "CWupDGzYaK7U",
        "outputId": "d3a9bb7b-3987-43b3-f089-995f259e6a51",
        "colab": {
          "base_uri": "https://localhost:8080/",
          "height": 74
        }
      },
      "outputs": [
        {
          "output_type": "execute_result",
          "data": {
            "text/plain": [
              "LatentDirichletAllocation(n_components=7, random_state=42)"
            ],
            "text/html": [
              "<style>#sk-container-id-1 {color: black;background-color: white;}#sk-container-id-1 pre{padding: 0;}#sk-container-id-1 div.sk-toggleable {background-color: white;}#sk-container-id-1 label.sk-toggleable__label {cursor: pointer;display: block;width: 100%;margin-bottom: 0;padding: 0.3em;box-sizing: border-box;text-align: center;}#sk-container-id-1 label.sk-toggleable__label-arrow:before {content: \"▸\";float: left;margin-right: 0.25em;color: #696969;}#sk-container-id-1 label.sk-toggleable__label-arrow:hover:before {color: black;}#sk-container-id-1 div.sk-estimator:hover label.sk-toggleable__label-arrow:before {color: black;}#sk-container-id-1 div.sk-toggleable__content {max-height: 0;max-width: 0;overflow: hidden;text-align: left;background-color: #f0f8ff;}#sk-container-id-1 div.sk-toggleable__content pre {margin: 0.2em;color: black;border-radius: 0.25em;background-color: #f0f8ff;}#sk-container-id-1 input.sk-toggleable__control:checked~div.sk-toggleable__content {max-height: 200px;max-width: 100%;overflow: auto;}#sk-container-id-1 input.sk-toggleable__control:checked~label.sk-toggleable__label-arrow:before {content: \"▾\";}#sk-container-id-1 div.sk-estimator input.sk-toggleable__control:checked~label.sk-toggleable__label {background-color: #d4ebff;}#sk-container-id-1 div.sk-label input.sk-toggleable__control:checked~label.sk-toggleable__label {background-color: #d4ebff;}#sk-container-id-1 input.sk-hidden--visually {border: 0;clip: rect(1px 1px 1px 1px);clip: rect(1px, 1px, 1px, 1px);height: 1px;margin: -1px;overflow: hidden;padding: 0;position: absolute;width: 1px;}#sk-container-id-1 div.sk-estimator {font-family: monospace;background-color: #f0f8ff;border: 1px dotted black;border-radius: 0.25em;box-sizing: border-box;margin-bottom: 0.5em;}#sk-container-id-1 div.sk-estimator:hover {background-color: #d4ebff;}#sk-container-id-1 div.sk-parallel-item::after {content: \"\";width: 100%;border-bottom: 1px solid gray;flex-grow: 1;}#sk-container-id-1 div.sk-label:hover label.sk-toggleable__label {background-color: #d4ebff;}#sk-container-id-1 div.sk-serial::before {content: \"\";position: absolute;border-left: 1px solid gray;box-sizing: border-box;top: 0;bottom: 0;left: 50%;z-index: 0;}#sk-container-id-1 div.sk-serial {display: flex;flex-direction: column;align-items: center;background-color: white;padding-right: 0.2em;padding-left: 0.2em;position: relative;}#sk-container-id-1 div.sk-item {position: relative;z-index: 1;}#sk-container-id-1 div.sk-parallel {display: flex;align-items: stretch;justify-content: center;background-color: white;position: relative;}#sk-container-id-1 div.sk-item::before, #sk-container-id-1 div.sk-parallel-item::before {content: \"\";position: absolute;border-left: 1px solid gray;box-sizing: border-box;top: 0;bottom: 0;left: 50%;z-index: -1;}#sk-container-id-1 div.sk-parallel-item {display: flex;flex-direction: column;z-index: 1;position: relative;background-color: white;}#sk-container-id-1 div.sk-parallel-item:first-child::after {align-self: flex-end;width: 50%;}#sk-container-id-1 div.sk-parallel-item:last-child::after {align-self: flex-start;width: 50%;}#sk-container-id-1 div.sk-parallel-item:only-child::after {width: 0;}#sk-container-id-1 div.sk-dashed-wrapped {border: 1px dashed gray;margin: 0 0.4em 0.5em 0.4em;box-sizing: border-box;padding-bottom: 0.4em;background-color: white;}#sk-container-id-1 div.sk-label label {font-family: monospace;font-weight: bold;display: inline-block;line-height: 1.2em;}#sk-container-id-1 div.sk-label-container {text-align: center;}#sk-container-id-1 div.sk-container {/* jupyter's `normalize.less` sets `[hidden] { display: none; }` but bootstrap.min.css set `[hidden] { display: none !important; }` so we also need the `!important` here to be able to override the default hidden behavior on the sphinx rendered scikit-learn.org. See: https://github.com/scikit-learn/scikit-learn/issues/21755 */display: inline-block !important;position: relative;}#sk-container-id-1 div.sk-text-repr-fallback {display: none;}</style><div id=\"sk-container-id-1\" class=\"sk-top-container\"><div class=\"sk-text-repr-fallback\"><pre>LatentDirichletAllocation(n_components=7, random_state=42)</pre><b>In a Jupyter environment, please rerun this cell to show the HTML representation or trust the notebook. <br />On GitHub, the HTML representation is unable to render, please try loading this page with nbviewer.org.</b></div><div class=\"sk-container\" hidden><div class=\"sk-item\"><div class=\"sk-estimator sk-toggleable\"><input class=\"sk-toggleable__control sk-hidden--visually\" id=\"sk-estimator-id-1\" type=\"checkbox\" checked><label for=\"sk-estimator-id-1\" class=\"sk-toggleable__label sk-toggleable__label-arrow\">LatentDirichletAllocation</label><div class=\"sk-toggleable__content\"><pre>LatentDirichletAllocation(n_components=7, random_state=42)</pre></div></div></div></div></div>"
            ]
          },
          "metadata": {},
          "execution_count": 44
        }
      ],
      "source": [
        "LDA.fit(dtm)"
      ]
    },
    {
      "cell_type": "code",
      "execution_count": 45,
      "metadata": {
        "id": "_SQBoY_yaK7V",
        "outputId": "b11e4426-7237-4dfc-835f-d514c47cb73d",
        "colab": {
          "base_uri": "https://localhost:8080/"
        }
      },
      "outputs": [
        {
          "output_type": "stream",
          "name": "stdout",
          "text": [
            "7 <class 'numpy.ndarray'>\n"
          ]
        }
      ],
      "source": [
        "print(len(LDA.components_),type(LDA.components_))"
      ]
    },
    {
      "cell_type": "code",
      "execution_count": 46,
      "metadata": {
        "id": "gKnBGEUKaK7V"
      },
      "outputs": [],
      "source": [
        "single_topic = LDA.components_[0]\n",
        "top_10_words = single_topic.argsort()[-100:]"
      ]
    },
    {
      "cell_type": "code",
      "execution_count": 47,
      "metadata": {
        "id": "V6x2wUDnaK7W",
        "outputId": "a378d173-6e47-4ab4-b31a-f883c610263b",
        "colab": {
          "base_uri": "https://localhost:8080/"
        }
      },
      "outputs": [
        {
          "output_type": "stream",
          "name": "stdout",
          "text": [
            "тьма\n",
            "бледный\n",
            "дышать\n",
            "тишина\n",
            "вечный\n",
            "дума\n",
            "миг\n",
            "всё\n",
            "печаль\n",
            "новый\n",
            "хотеть\n",
            "земной\n",
            "мочь\n",
            "они\n",
            "прекрасный\n",
            "мы\n",
            "смерть\n",
            "красота\n",
            "луна\n",
            "гореть\n",
            "уста\n",
            "год\n",
            "лес\n",
            "пусть\n",
            "святой\n",
            "цветок\n",
            "век\n",
            "радость\n",
            "судьба\n",
            "тихий\n",
            "весна\n",
            "полный\n",
            "видеть\n",
            "поле\n",
            "быть\n",
            "глаз\n",
            "человек\n",
            "дух\n",
            "идти\n",
            "ветер\n",
            "ждать\n",
            "вновь\n",
            "звук\n",
            "ль\n",
            "живой\n",
            "тёмный\n",
            "вода\n",
            "страсть\n",
            "сила\n",
            "море\n",
            "жить\n",
            "иль\n",
            "он\n",
            "дать\n",
            "светлый\n",
            "бог\n",
            "тот\n",
            "нежный\n",
            "нет\n",
            "тоска\n",
            "счастие\n",
            "гора\n",
            "она\n",
            "звезда\n",
            "мир\n",
            "слово\n",
            "свой\n",
            "солнце\n",
            "петь\n",
            "луч\n",
            "милый\n",
            "око\n",
            "пред\n",
            "слеза\n",
            "волна\n",
            "грудь\n",
            "ночь\n",
            "свет\n",
            "песня\n",
            "друг\n",
            "то\n",
            "рука\n",
            "огонь\n",
            "тень\n",
            "земля\n",
            "знать\n",
            "один\n",
            "взор\n",
            "жизнь\n",
            "любить\n",
            "мечта\n",
            "сон\n",
            "небо\n",
            "твой\n",
            "любовь\n",
            "день\n",
            "ты\n",
            "душа\n",
            "сердце\n",
            "мой\n"
          ]
        }
      ],
      "source": [
        "words_LDA = []\n",
        "for index in top_10_words:\n",
        "    print(cv.get_feature_names_out()[index])\n",
        "    words_LDA.append(cv.get_feature_names_out()[index])"
      ]
    },
    {
      "cell_type": "code",
      "execution_count": 48,
      "metadata": {
        "id": "r9F5oxKmaK7W",
        "outputId": "1f04b0ca-b305-4ffa-cdc6-08e930767817",
        "colab": {
          "base_uri": "https://localhost:8080/"
        }
      },
      "outputs": [
        {
          "output_type": "stream",
          "name": "stdout",
          "text": [
            "тьма бледный дышать тишина вечный дума миг всё печаль новый хотеть земной мочь они прекрасный мы смерть красота луна гореть уста год лес пусть святой цветок век радость судьба тихий весна полный видеть поле быть глаз человек дух идти ветер ждать вновь звук ль живой тёмный вода страсть сила море жить иль он дать светлый бог тот нежный нет тоска счастие гора она звезда мир слово свой солнце петь луч милый око пред слеза волна грудь ночь свет песня друг то рука огонь тень земля знать один взор жизнь любить мечта сон небо твой любовь день ты душа сердце мой\n"
          ]
        }
      ],
      "source": [
        "#print(words_LDA)\n",
        "str_words_LDA = \" \".join(words_LDA)\n",
        "print(str_words_LDA)"
      ]
    },
    {
      "cell_type": "code",
      "execution_count": 49,
      "metadata": {
        "id": "jGtSblINaK7X",
        "outputId": "1fce2b01-4e31-4ab1-a684-09a4bc44cf5e",
        "colab": {
          "base_uri": "https://localhost:8080/"
        }
      },
      "outputs": [
        {
          "output_type": "stream",
          "name": "stdout",
          "text": [
            "Requirement already satisfied: wordcloud in /usr/local/lib/python3.10/dist-packages (1.9.3)\n",
            "Requirement already satisfied: numpy>=1.6.1 in /usr/local/lib/python3.10/dist-packages (from wordcloud) (1.25.2)\n",
            "Requirement already satisfied: pillow in /usr/local/lib/python3.10/dist-packages (from wordcloud) (9.4.0)\n",
            "Requirement already satisfied: matplotlib in /usr/local/lib/python3.10/dist-packages (from wordcloud) (3.7.1)\n",
            "Requirement already satisfied: contourpy>=1.0.1 in /usr/local/lib/python3.10/dist-packages (from matplotlib->wordcloud) (1.2.1)\n",
            "Requirement already satisfied: cycler>=0.10 in /usr/local/lib/python3.10/dist-packages (from matplotlib->wordcloud) (0.12.1)\n",
            "Requirement already satisfied: fonttools>=4.22.0 in /usr/local/lib/python3.10/dist-packages (from matplotlib->wordcloud) (4.50.0)\n",
            "Requirement already satisfied: kiwisolver>=1.0.1 in /usr/local/lib/python3.10/dist-packages (from matplotlib->wordcloud) (1.4.5)\n",
            "Requirement already satisfied: packaging>=20.0 in /usr/local/lib/python3.10/dist-packages (from matplotlib->wordcloud) (24.0)\n",
            "Requirement already satisfied: pyparsing>=2.3.1 in /usr/local/lib/python3.10/dist-packages (from matplotlib->wordcloud) (3.1.2)\n",
            "Requirement already satisfied: python-dateutil>=2.7 in /usr/local/lib/python3.10/dist-packages (from matplotlib->wordcloud) (2.8.2)\n",
            "Requirement already satisfied: six>=1.5 in /usr/local/lib/python3.10/dist-packages (from python-dateutil>=2.7->matplotlib->wordcloud) (1.16.0)\n"
          ]
        }
      ],
      "source": [
        "!pip install wordcloud"
      ]
    },
    {
      "cell_type": "code",
      "execution_count": 50,
      "metadata": {
        "id": "1L0QJbnNaK7X",
        "outputId": "0bba2bce-d704-4453-b116-ffff4989997b",
        "colab": {
          "base_uri": "https://localhost:8080/",
          "height": 285
        }
      },
      "outputs": [
        {
          "output_type": "display_data",
          "data": {
            "text/plain": [
              "<Figure size 640x480 with 1 Axes>"
            ],
            "image/png": "[encoded data removed]"
          },
          "metadata": {}
        }
      ],
      "source": [
        "### WordCloud\n",
        "from wordcloud import WordCloud\n",
        "import matplotlib.pyplot as plt\n",
        "%matplotlib inline\n",
        "\n",
        "wordcloud = WordCloud(background_color='white').generate(str_words_LDA)\n",
        "\n",
        "plt.imshow(wordcloud, interpolation='bilinear')\n",
        "plt.axis(\"off\")\n",
        "plt.show()"
      ]
    },
    {
      "cell_type": "code",
      "execution_count": 51,
      "metadata": {
        "id": "ILdNEg6saK7Y",
        "outputId": "20c6c04d-7960-400f-92b0-132926924884",
        "colab": {
          "base_uri": "https://localhost:8080/"
        }
      },
      "outputs": [
        {
          "output_type": "stream",
          "name": "stdout",
          "text": [
            "THE TOP 15 WORDS FOR TOPIC #0\n",
            "['милый', 'око', 'пред', 'слеза', 'волна', 'грудь', 'ночь', 'свет', 'песня', 'друг', 'то', 'рука', 'огонь', 'тень', 'земля', 'знать', 'один', 'взор', 'жизнь', 'любить', 'мечта', 'сон', 'небо', 'твой', 'любовь', 'день', 'ты', 'душа', 'сердце', 'мой']\n",
            "\n",
            "\n",
            "THE TOP 15 WORDS FOR TOPIC #1\n",
            "['хотеть', 'слава', 'знать', 'хор', 'дать', 'жена', 'они', 'видеть', 'князь', 'сказать', 'меч', 'ребёнок', 'сердце', 'мы', 'враг', 'смерть', 'кровь', 'земля', 'быть', 'нет', 'отец', 'иль', 'рука', 'он', 'сын', 'мой', 'твой', 'бог', 'ты', 'царь']\n",
            "\n",
            "\n",
            "THE TOP 15 WORDS FOR TOPIC #2\n",
            "['сквозь', 'смотреть', 'дорога', 'стоить', 'глядеть', 'стать', 'город', 'снег', 'тот', 'день', 'мы', 'дом', 'солнце', 'белый', 'нога', 'вода', 'поле', 'гора', 'лес', 'море', 'земля', 'небо', 'конь', 'ветер', 'чёрный', 'глаз', 'красный', 'рука', 'то', 'идти']\n",
            "\n",
            "\n",
            "THE TOP 15 WORDS FOR TOPIC #3\n",
            "['такой', 'любить', 'пойти', 'идти', 'рука', 'они', 'стать', 'человек', 'да', 'какой', 'так', 'друг', 'дать', 'один', 'хотеть', 'она', 'тот', 'бог', 'вы', 'ну', 'что', 'говорить', 'нет', 'быть', 'сказать', 'он', 'ты', 'знать', 'мой', 'то']\n",
            "\n",
            "\n",
            "THE TOP 15 WORDS FOR TOPIC #4\n",
            "['бог', 'себѣ', 'безъ', 'гдѣ', 'чтобъ', 'мысль', 'всѣ', 'любить', 'день', 'нѣтъ', 'былъ', 'твой', 'сердце', 'изъ', 'ево', 'ихъ', 'она', 'ты', 'сей', 'такъ', 'тебѣ', 'любовь', 'отъ', 'мой', 'къ', 'какъ', 'онъ', 'съ', 'мнѣ', 'въ']\n",
            "\n",
            "\n",
            "THE TOP 15 WORDS FOR TOPIC #5\n",
            "['зреть', 'власть', 'год', 'твой', 'дело', 'иметь', 'вы', 'мысль', 'мочь', 'свет', 'быть', 'труд', 'какой', 'ах', 'один', 'рука', 'стих', 'дух', 'свой', 'любовь', 'коль', 'товарищ', 'рабочий', 'дать', 'сие', 'мой', 'ii', 'слово', 'вместо', 'сей']\n",
            "\n",
            "\n",
            "THE TOP 15 WORDS FOR TOPIC #6\n",
            "['ребёнок', 'голубой', 'король', 'что', 'по', 'знать', 'прекрасный', 'рука', 'пусть', 'мама', 'женщина', 'дать', 'петь', 'какой', 'мы', 'человек', 'мой', 'царевич', 'один', 'роза', 'она', 'дама', 'смотреть', 'ах', 'глаз', 'идти', 'то', 'стих', 'вы', 'поэт']\n",
            "\n",
            "\n"
          ]
        }
      ],
      "source": [
        "for index,topic in enumerate(LDA.components_):\n",
        "    print(f'THE TOP 15 WORDS FOR TOPIC #{index}')\n",
        "    print([cv.get_feature_names_out()[i] for i in topic.argsort()[-30:]])\n",
        "    print('\\n')"
      ]
    },
    {
      "cell_type": "code",
      "execution_count": 52,
      "metadata": {
        "id": "L346lGI1aK7Y",
        "colab": {
          "base_uri": "https://localhost:8080/"
        },
        "outputId": "4a72f902-f27b-4894-c153-254bd0ca375e"
      },
      "outputs": [
        {
          "output_type": "stream",
          "name": "stdout",
          "text": [
            "Word2Vec<vocab=19855, vector_size=3000, alpha=0.03>\n"
          ]
        }
      ],
      "source": [
        "print(w2v_model)"
      ]
    },
    {
      "cell_type": "code",
      "source": [
        "model.save(\"word2vec.model\") #сохранить модель"
      ],
      "metadata": {
        "id": "69AK2ewoAmQw"
      },
      "execution_count": 53,
      "outputs": []
    },
    {
      "cell_type": "code",
      "source": [
        "model = Word2Vec.load(\"word2vec.model\") #загрузить модель"
      ],
      "metadata": {
        "id": "nkihE3q0A8XM"
      },
      "execution_count": 54,
      "outputs": []
    }
  ],
  "metadata": {
    "colab": {
      "provenance": [],
      "include_colab_link": true
    },
    "kernelspec": {
      "display_name": "Python 3 (ipykernel)",
      "language": "python",
      "name": "python3"
    },
    "language_info": {
      "codemirror_mode": {
        "name": "ipython",
        "version": 3
      },
      "file_extension": ".py",
      "mimetype": "text/x-python",
      "name": "python",
      "nbconvert_exporter": "python",
      "pygments_lexer": "ipython3",
      "version": "3.11.5"
    }
  },
  "nbformat": 4,
  "nbformat_minor": 0
}